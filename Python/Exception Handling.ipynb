{
 "cells": [
  {
   "cell_type": "markdown",
   "id": "d2610668",
   "metadata": {},
   "source": [
    "### Exception Handling\n",
    "* Single except block"
   ]
  },
  {
   "cell_type": "code",
   "execution_count": 3,
   "id": "e79df182",
   "metadata": {},
   "outputs": [
    {
     "name": "stdout",
     "output_type": "stream",
     "text": [
      "Enter numerator:40\n",
      "Enter denominator:0\n",
      "Denominator cannot be zero. Please try again\n"
     ]
    }
   ],
   "source": [
    "try:\n",
    "    numerator=int(input('Enter numerator:'))\n",
    "    denominator=int(input('Enter denominator:'))\n",
    "    \n",
    "    result=numerator/denominator\n",
    "    print(result)\n",
    "except Exception as error:\n",
    "    print('Denominator cannot be zero. Please try again')"
   ]
  },
  {
   "cell_type": "code",
   "execution_count": null,
   "id": "85f14f48",
   "metadata": {},
   "outputs": [],
   "source": []
  },
  {
   "cell_type": "markdown",
   "id": "e45c7fb6",
   "metadata": {},
   "source": [
    "* Multiple Except blocks"
   ]
  },
  {
   "cell_type": "code",
   "execution_count": 5,
   "id": "eebf8cf0",
   "metadata": {},
   "outputs": [
    {
     "name": "stdout",
     "output_type": "stream",
     "text": [
      "Enter numerator:40\n",
      "Enter denominator:24\n",
      "1.6666666666666667\n",
      "Enter the index:5\n",
      "Index cannot be greater than size of list\n"
     ]
    }
   ],
   "source": [
    "try:\n",
    "    numerator=int(input('Enter numerator:'))\n",
    "    denominator=int(input('Enter denominator:'))\n",
    "    \n",
    "    result=numerator/denominator\n",
    "    print(result)\n",
    "    \n",
    "    lst=[1,2,3]\n",
    "    i=int(input('Enter the index:'))\n",
    "    print(lst[i])\n",
    "except ZeroDivisionError:\n",
    "    print('Denominator cannot be zero. Please try again')\n",
    "except IndexError:\n",
    "    print('Index cannot be greater than size of list')"
   ]
  },
  {
   "cell_type": "code",
   "execution_count": 23,
   "id": "074a7a3f",
   "metadata": {},
   "outputs": [
    {
     "name": "stdout",
     "output_type": "stream",
     "text": [
      "Enter numerator:30\n",
      "Enter denominator:15\n",
      "2.0\n",
      "Enter the index:5\n",
      "list index out of range\n"
     ]
    }
   ],
   "source": [
    "try:\n",
    "    numerator=int(input('Enter numerator:'))\n",
    "    denominator=int(input('Enter denominator:'))\n",
    "    \n",
    "    result=numerator/denominator\n",
    "    print(result)\n",
    "    \n",
    "    lst=[1,2,3]\n",
    "    i=int(input('Enter the index:'))\n",
    "    print(lst[i])\n",
    "except Exception as error: \n",
    "    print(error)"
   ]
  },
  {
   "cell_type": "code",
   "execution_count": 7,
   "id": "054caa54",
   "metadata": {},
   "outputs": [],
   "source": [
    "def add_numbers(n1, n2):\n",
    "    sum=n1+n2\n",
    "    return sum"
   ]
  },
  {
   "cell_type": "code",
   "execution_count": 9,
   "id": "8209b601",
   "metadata": {},
   "outputs": [
    {
     "name": "stdout",
     "output_type": "stream",
     "text": [
      "7\n",
      "9.600000000000001\n"
     ]
    },
    {
     "ename": "TypeError",
     "evalue": "unsupported operand type(s) for +: 'int' and 'str'",
     "output_type": "error",
     "traceback": [
      "\u001b[1;31m---------------------------------------------------------------------------\u001b[0m",
      "\u001b[1;31mTypeError\u001b[0m                                 Traceback (most recent call last)",
      "\u001b[1;32mC:\\Users\\SHUBHA~1\\AppData\\Local\\Temp/ipykernel_29644/3380012528.py\u001b[0m in \u001b[0;36m<module>\u001b[1;34m\u001b[0m\n\u001b[0;32m      1\u001b[0m \u001b[0mprint\u001b[0m\u001b[1;33m(\u001b[0m\u001b[0madd_numbers\u001b[0m\u001b[1;33m(\u001b[0m\u001b[1;36m2\u001b[0m\u001b[1;33m,\u001b[0m \u001b[1;36m5\u001b[0m\u001b[1;33m)\u001b[0m\u001b[1;33m)\u001b[0m\u001b[1;33m\u001b[0m\u001b[1;33m\u001b[0m\u001b[0m\n\u001b[0;32m      2\u001b[0m \u001b[0mprint\u001b[0m\u001b[1;33m(\u001b[0m\u001b[0madd_numbers\u001b[0m\u001b[1;33m(\u001b[0m\u001b[1;36m7.4\u001b[0m\u001b[1;33m,\u001b[0m \u001b[1;36m2.2\u001b[0m\u001b[1;33m)\u001b[0m\u001b[1;33m)\u001b[0m\u001b[1;33m\u001b[0m\u001b[1;33m\u001b[0m\u001b[0m\n\u001b[1;32m----> 3\u001b[1;33m \u001b[0mprint\u001b[0m\u001b[1;33m(\u001b[0m\u001b[0madd_numbers\u001b[0m\u001b[1;33m(\u001b[0m\u001b[1;36m2\u001b[0m\u001b[1;33m,\u001b[0m \u001b[1;34m'a'\u001b[0m\u001b[1;33m)\u001b[0m\u001b[1;33m)\u001b[0m\u001b[1;33m\u001b[0m\u001b[1;33m\u001b[0m\u001b[0m\n\u001b[0m\u001b[0;32m      4\u001b[0m \u001b[0mprint\u001b[0m\u001b[1;33m(\u001b[0m\u001b[0madd_numbers\u001b[0m\u001b[1;33m(\u001b[0m\u001b[1;36m7\u001b[0m\u001b[1;33m,\u001b[0m \u001b[1;36m9\u001b[0m\u001b[1;33m)\u001b[0m\u001b[1;33m)\u001b[0m\u001b[1;33m\u001b[0m\u001b[1;33m\u001b[0m\u001b[0m\n\u001b[0;32m      5\u001b[0m \u001b[0mprint\u001b[0m\u001b[1;33m(\u001b[0m\u001b[1;34m'Execution completed'\u001b[0m\u001b[1;33m)\u001b[0m\u001b[1;33m\u001b[0m\u001b[1;33m\u001b[0m\u001b[0m\n",
      "\u001b[1;32mC:\\Users\\SHUBHA~1\\AppData\\Local\\Temp/ipykernel_29644/375322389.py\u001b[0m in \u001b[0;36madd_numbers\u001b[1;34m(n1, n2)\u001b[0m\n\u001b[0;32m      1\u001b[0m \u001b[1;32mdef\u001b[0m \u001b[0madd_numbers\u001b[0m\u001b[1;33m(\u001b[0m\u001b[0mn1\u001b[0m\u001b[1;33m,\u001b[0m \u001b[0mn2\u001b[0m\u001b[1;33m)\u001b[0m\u001b[1;33m:\u001b[0m\u001b[1;33m\u001b[0m\u001b[1;33m\u001b[0m\u001b[0m\n\u001b[1;32m----> 2\u001b[1;33m     \u001b[0msum\u001b[0m\u001b[1;33m=\u001b[0m\u001b[0mn1\u001b[0m\u001b[1;33m+\u001b[0m\u001b[0mn2\u001b[0m\u001b[1;33m\u001b[0m\u001b[1;33m\u001b[0m\u001b[0m\n\u001b[0m\u001b[0;32m      3\u001b[0m     \u001b[1;32mreturn\u001b[0m \u001b[0msum\u001b[0m\u001b[1;33m\u001b[0m\u001b[1;33m\u001b[0m\u001b[0m\n",
      "\u001b[1;31mTypeError\u001b[0m: unsupported operand type(s) for +: 'int' and 'str'"
     ]
    }
   ],
   "source": [
    "print(add_numbers(2, 5))\n",
    "print(add_numbers(7.4, 2.2))\n",
    "print(add_numbers(2, 'a'))\n",
    "print(add_numbers(7, 9))\n",
    "print('Execution completed')"
   ]
  },
  {
   "cell_type": "markdown",
   "id": "15673e6f",
   "metadata": {},
   "source": [
    "#### How to deal with this ?"
   ]
  },
  {
   "cell_type": "code",
   "execution_count": 11,
   "id": "df558667",
   "metadata": {},
   "outputs": [],
   "source": [
    "def add_numbers(n1, n2):\n",
    "    try:\n",
    "        sum=n1+n2\n",
    "        return sum\n",
    "    except TypeError:\n",
    "        return('Invalid number')"
   ]
  },
  {
   "cell_type": "code",
   "execution_count": 12,
   "id": "8d28c92b",
   "metadata": {},
   "outputs": [
    {
     "name": "stdout",
     "output_type": "stream",
     "text": [
      "7\n",
      "9.600000000000001\n",
      "Invalid number\n",
      "16\n",
      "Execution completed\n"
     ]
    }
   ],
   "source": [
    "print(add_numbers(2, 5))\n",
    "print(add_numbers(7.4, 2.2))\n",
    "print(add_numbers(2, 'a'))\n",
    "print(add_numbers(7, 9))\n",
    "print('Execution completed')"
   ]
  },
  {
   "cell_type": "code",
   "execution_count": 19,
   "id": "3fac2252",
   "metadata": {},
   "outputs": [],
   "source": [
    "def add_numbers(n1, n2):\n",
    "    try:\n",
    "        sum=n1+n222\n",
    "        return sum\n",
    "    except Exception as error:\n",
    "        return error"
   ]
  },
  {
   "cell_type": "code",
   "execution_count": 20,
   "id": "938a8b8c",
   "metadata": {},
   "outputs": [
    {
     "name": "stdout",
     "output_type": "stream",
     "text": [
      "name 'n222' is not defined\n",
      "name 'n222' is not defined\n",
      "name 'n222' is not defined\n",
      "name 'n222' is not defined\n",
      "Execution completed\n"
     ]
    }
   ],
   "source": [
    "print(add_numbers(2, 5))\n",
    "print(add_numbers(7.4, 2.2))\n",
    "print(add_numbers(2, 'a'))\n",
    "print(add_numbers(7, 9))\n",
    "print('Execution completed')"
   ]
  },
  {
   "cell_type": "code",
   "execution_count": 21,
   "id": "5505152a",
   "metadata": {},
   "outputs": [],
   "source": [
    "def add_numbers(n1, n2):\n",
    "    try:\n",
    "        sum=n1+n222\n",
    "        return sum\n",
    "    except TypeError:\n",
    "        return('Invalid Number')\n",
    "    except NameError:\n",
    "        return('Invalid Parameter')\n",
    "    except Exception as error:\n",
    "        return error"
   ]
  },
  {
   "cell_type": "code",
   "execution_count": 22,
   "id": "88f1999d",
   "metadata": {},
   "outputs": [
    {
     "name": "stdout",
     "output_type": "stream",
     "text": [
      "Invalid Parameter\n",
      "Invalid Parameter\n",
      "Invalid Parameter\n",
      "Invalid Parameter\n",
      "Execution completed\n"
     ]
    }
   ],
   "source": [
    "print(add_numbers(2, 5))\n",
    "print(add_numbers(7.4, 2.2))\n",
    "print(add_numbers(2, 'a'))\n",
    "print(add_numbers(7, 9))\n",
    "print('Execution completed')"
   ]
  },
  {
   "cell_type": "code",
   "execution_count": null,
   "id": "176c3f4b",
   "metadata": {},
   "outputs": [],
   "source": []
  }
 ],
 "metadata": {
  "kernelspec": {
   "display_name": "Python 3 (ipykernel)",
   "language": "python",
   "name": "python3"
  },
  "language_info": {
   "codemirror_mode": {
    "name": "ipython",
    "version": 3
   },
   "file_extension": ".py",
   "mimetype": "text/x-python",
   "name": "python",
   "nbconvert_exporter": "python",
   "pygments_lexer": "ipython3",
   "version": "3.9.7"
  }
 },
 "nbformat": 4,
 "nbformat_minor": 5
}
