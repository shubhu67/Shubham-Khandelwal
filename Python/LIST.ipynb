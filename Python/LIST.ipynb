{
 "cells": [
  {
   "cell_type": "markdown",
   "id": "9b408595",
   "metadata": {},
   "source": [
    "###### Print stars"
   ]
  },
  {
   "cell_type": "code",
   "execution_count": 145,
   "id": "213e846e",
   "metadata": {},
   "outputs": [
    {
     "name": "stdout",
     "output_type": "stream",
     "text": [
      "*\n",
      "**\n",
      "***\n",
      "****\n",
      "*****\n"
     ]
    }
   ],
   "source": [
    "for i in range(1,6):\n",
    "    print('*'*i)"
   ]
  },
  {
   "cell_type": "markdown",
   "id": "57142a4f",
   "metadata": {},
   "source": [
    "###### Print 2D coordinates"
   ]
  },
  {
   "cell_type": "code",
   "execution_count": 147,
   "id": "84274f49",
   "metadata": {},
   "outputs": [
    {
     "name": "stdout",
     "output_type": "stream",
     "text": [
      "(0, 0)\n",
      "(0, 1)\n",
      "(0, 2)\n",
      "(1, 0)\n",
      "(1, 1)\n",
      "(1, 2)\n",
      "(2, 0)\n",
      "(2, 1)\n",
      "(2, 2)\n",
      "(3, 0)\n",
      "(3, 1)\n",
      "(3, 2)\n"
     ]
    }
   ],
   "source": [
    "for x in range(0,4):\n",
    "    for y in range(0, 3):\n",
    "        print(f'{x,y}')"
   ]
  },
  {
   "cell_type": "markdown",
   "id": "a242ff89",
   "metadata": {},
   "source": [
    "##### Count number of vowels in a string"
   ]
  },
  {
   "cell_type": "code",
   "execution_count": 129,
   "id": "479c89f3",
   "metadata": {},
   "outputs": [
    {
     "name": "stdout",
     "output_type": "stream",
     "text": [
      "enter your string:Shubham Khandelwal\n",
      "5\n"
     ]
    }
   ],
   "source": [
    "str = input('enter your string:')\n",
    "count=0\n",
    "for i in str:\n",
    "    if (i in 'aieou'):\n",
    "        count += 1\n",
    "print(count)"
   ]
  },
  {
   "cell_type": "markdown",
   "id": "9cd60037",
   "metadata": {},
   "source": [
    "##### Prime number function"
   ]
  },
  {
   "cell_type": "code",
   "execution_count": 142,
   "id": "81d68c39",
   "metadata": {},
   "outputs": [],
   "source": [
    "def prime(x):\n",
    "    flag=0\n",
    "    for i in range(2, x):\n",
    "        if x%i==0:\n",
    "            flag=1\n",
    "            break\n",
    "    if flag==0:\n",
    "        return ('Prime')\n",
    "    else:\n",
    "        return ('Not Prime')"
   ]
  },
  {
   "cell_type": "code",
   "execution_count": 143,
   "id": "114e8d09",
   "metadata": {},
   "outputs": [
    {
     "name": "stdout",
     "output_type": "stream",
     "text": [
      "Prime\n",
      "Not Prime\n",
      "Prime\n",
      "Prime\n"
     ]
    }
   ],
   "source": [
    "print(prime(5))\n",
    "print(prime(4))\n",
    "print(prime(11))\n",
    "print(prime(67))"
   ]
  },
  {
   "cell_type": "code",
   "execution_count": 10,
   "id": "9fdb70ef",
   "metadata": {},
   "outputs": [],
   "source": [
    "l=[1,3,5,7]"
   ]
  },
  {
   "cell_type": "code",
   "execution_count": 2,
   "id": "788f354c",
   "metadata": {
    "scrolled": true
   },
   "outputs": [],
   "source": [
    "l=[i**3 for i in l] # List Comprehension"
   ]
  },
  {
   "cell_type": "code",
   "execution_count": 3,
   "id": "7c453c62",
   "metadata": {},
   "outputs": [
    {
     "data": {
      "text/plain": [
       "[1, 27, 125, 343]"
      ]
     },
     "execution_count": 3,
     "metadata": {},
     "output_type": "execute_result"
    }
   ],
   "source": [
    "l"
   ]
  },
  {
   "cell_type": "code",
   "execution_count": 4,
   "id": "2e4adfa7",
   "metadata": {},
   "outputs": [
    {
     "data": {
      "text/plain": [
       "[1, 27, 125, 343]"
      ]
     },
     "execution_count": 4,
     "metadata": {},
     "output_type": "execute_result"
    }
   ],
   "source": [
    "l"
   ]
  },
  {
   "cell_type": "code",
   "execution_count": 5,
   "id": "ebec788f",
   "metadata": {},
   "outputs": [],
   "source": [
    "def fun(x):\n",
    "    return(x%2==0) # Since we have passed only the boolean condition in the return statement, hence it is returning\n",
    "                   # True or False."
   ]
  },
  {
   "cell_type": "code",
   "execution_count": 6,
   "id": "454a4aa8",
   "metadata": {},
   "outputs": [
    {
     "data": {
      "text/plain": [
       "False"
      ]
     },
     "execution_count": 6,
     "metadata": {},
     "output_type": "execute_result"
    }
   ],
   "source": [
    "fun(21)"
   ]
  },
  {
   "cell_type": "code",
   "execution_count": 7,
   "id": "791e2b38",
   "metadata": {},
   "outputs": [],
   "source": [
    "l=[1,2,3,4,5,'A','B','C','D']"
   ]
  },
  {
   "cell_type": "code",
   "execution_count": 8,
   "id": "eef50aed",
   "metadata": {},
   "outputs": [
    {
     "data": {
      "text/plain": [
       "[1, 2, 3, 4, 5, 'A', 'B', 'C', 'D']"
      ]
     },
     "execution_count": 8,
     "metadata": {},
     "output_type": "execute_result"
    }
   ],
   "source": [
    "l"
   ]
  },
  {
   "cell_type": "code",
   "execution_count": 9,
   "id": "ee97ae6c",
   "metadata": {},
   "outputs": [],
   "source": [
    "l2=[]\n",
    "l3=[]"
   ]
  },
  {
   "cell_type": "code",
   "execution_count": 10,
   "id": "d2cd21a7",
   "metadata": {},
   "outputs": [
    {
     "name": "stdout",
     "output_type": "stream",
     "text": [
      "[1, 2, 3, 4, 5]\n",
      "['A', 'B', 'C', 'D']\n"
     ]
    }
   ],
   "source": [
    "for i in l:\n",
    "    if type(i)==int:\n",
    "        l2.append(i)\n",
    "    else:\n",
    "        l3.append(i)\n",
    "print(l2)\n",
    "print(l3)"
   ]
  },
  {
   "cell_type": "code",
   "execution_count": 2,
   "id": "623b1db0",
   "metadata": {},
   "outputs": [],
   "source": [
    "l=['c'+str(x) for x in range(3)]"
   ]
  },
  {
   "cell_type": "code",
   "execution_count": 3,
   "id": "c062ec85",
   "metadata": {},
   "outputs": [
    {
     "data": {
      "text/plain": [
       "['c0', 'c1', 'c2']"
      ]
     },
     "execution_count": 3,
     "metadata": {},
     "output_type": "execute_result"
    }
   ],
   "source": [
    "l"
   ]
  },
  {
   "cell_type": "code",
   "execution_count": 1,
   "id": "92d11422",
   "metadata": {},
   "outputs": [
    {
     "name": "stdout",
     "output_type": "stream",
     "text": [
      "False\n",
      "<class 'int'>\n"
     ]
    }
   ],
   "source": [
    "# x = ['Jack', 18, 'IM-101', 99.9, True,99,30]\n",
    "x=2\n",
    "print(isinstance(x, list))\n",
    "print(type(x))"
   ]
  },
  {
   "cell_type": "markdown",
   "id": "f8447bad",
   "metadata": {},
   "source": [
    "### Using list comprehension, store the integers in a separate list"
   ]
  },
  {
   "cell_type": "code",
   "execution_count": 2,
   "id": "5e2a462c",
   "metadata": {},
   "outputs": [],
   "source": [
    "x = ['Jack', 18, 'IM-101', 99.9, True,99,30]"
   ]
  },
  {
   "cell_type": "code",
   "execution_count": 3,
   "id": "fc808253",
   "metadata": {},
   "outputs": [],
   "source": [
    "y=[i for i in x if type(i)==int]"
   ]
  },
  {
   "cell_type": "code",
   "execution_count": 4,
   "id": "b2f2558a",
   "metadata": {},
   "outputs": [
    {
     "data": {
      "text/plain": [
       "[18, 99, 30]"
      ]
     },
     "execution_count": 4,
     "metadata": {},
     "output_type": "execute_result"
    }
   ],
   "source": [
    "y"
   ]
  },
  {
   "cell_type": "code",
   "execution_count": 11,
   "id": "275ff205",
   "metadata": {},
   "outputs": [],
   "source": [
    "l1=[1,4,1,4,3,3,6,1,7,1]"
   ]
  },
  {
   "cell_type": "code",
   "execution_count": 12,
   "id": "d4b9f036",
   "metadata": {},
   "outputs": [
    {
     "data": {
      "text/plain": [
       "1"
      ]
     },
     "execution_count": 12,
     "metadata": {},
     "output_type": "execute_result"
    }
   ],
   "source": [
    "l.count(1)"
   ]
  },
  {
   "cell_type": "code",
   "execution_count": 97,
   "id": "f73e0927",
   "metadata": {},
   "outputs": [
    {
     "data": {
      "text/plain": [
       "[2, 1, 7, 4]"
      ]
     },
     "execution_count": 97,
     "metadata": {},
     "output_type": "execute_result"
    }
   ],
   "source": [
    "#To remove only the first occurance of an element of the list\n",
    "li = [2,2,1,7,4]\n",
    "li.remove(2)\n",
    "li"
   ]
  },
  {
   "cell_type": "markdown",
   "id": "eab4bed5",
   "metadata": {},
   "source": [
    "### Remove all the 2's from the list"
   ]
  },
  {
   "cell_type": "code",
   "execution_count": 24,
   "id": "1d256eb6",
   "metadata": {},
   "outputs": [
    {
     "data": {
      "text/plain": [
       "[1, 7, 2, 2, 2, 4]"
      ]
     },
     "execution_count": 24,
     "metadata": {},
     "output_type": "execute_result"
    }
   ],
   "source": [
    "li = [2,2,1,7,2,2,2,2,2,4]\n",
    "lst = [ li.remove(2) for x in li if x==2 ]\n",
    "li"
   ]
  },
  {
   "cell_type": "code",
   "execution_count": 26,
   "id": "4c024bca",
   "metadata": {},
   "outputs": [
    {
     "data": {
      "text/plain": [
       "[1, 7, 4]"
      ]
     },
     "execution_count": 26,
     "metadata": {},
     "output_type": "execute_result"
    }
   ],
   "source": [
    "li = [2,2,1,7,2,4]\n",
    "lst=[x for x in li if x !=2]\n",
    "lst"
   ]
  },
  {
   "cell_type": "markdown",
   "id": "d4f30e59",
   "metadata": {},
   "source": [
    "### Get Unique elements"
   ]
  },
  {
   "cell_type": "code",
   "execution_count": 27,
   "id": "56769db6",
   "metadata": {},
   "outputs": [
    {
     "data": {
      "text/plain": [
       "[1, 1, 3, 1, 4, 4, 6, 7, 8, 4, 4, 2, 9]"
      ]
     },
     "execution_count": 27,
     "metadata": {},
     "output_type": "execute_result"
    }
   ],
   "source": [
    "l=[1,1,3,1,4,4,6,7,8,4,4,2,9]\n",
    "l"
   ]
  },
  {
   "cell_type": "code",
   "execution_count": 28,
   "id": "ab5bf5ab",
   "metadata": {},
   "outputs": [
    {
     "data": {
      "text/plain": [
       "{1, 2, 3, 4, 6, 7, 8, 9}"
      ]
     },
     "execution_count": 28,
     "metadata": {},
     "output_type": "execute_result"
    }
   ],
   "source": [
    "set(l) # Converting list into set. Hence it contains all unique elements ---- Typecasting"
   ]
  },
  {
   "cell_type": "code",
   "execution_count": 29,
   "id": "355eac5a",
   "metadata": {},
   "outputs": [
    {
     "data": {
      "text/plain": [
       "[1, 2, 3, 4, 6, 7, 8, 9]"
      ]
     },
     "execution_count": 29,
     "metadata": {},
     "output_type": "execute_result"
    }
   ],
   "source": [
    "list(set(l)) # Stored the elements of the set in a list"
   ]
  },
  {
   "cell_type": "code",
   "execution_count": 30,
   "id": "e292b528",
   "metadata": {},
   "outputs": [
    {
     "data": {
      "text/plain": [
       "[2, 2, 2, 2, 8, 4, 6, 2, 1, 1, 5, 6, 1]"
      ]
     },
     "execution_count": 30,
     "metadata": {},
     "output_type": "execute_result"
    }
   ],
   "source": [
    "l2=[2,2,2,2,8,4,6,2,1,1,5,6,1]\n",
    "l2"
   ]
  },
  {
   "cell_type": "code",
   "execution_count": 31,
   "id": "cebeb5c1",
   "metadata": {},
   "outputs": [
    {
     "name": "stdout",
     "output_type": "stream",
     "text": [
      "[2, 8, 4, 6, 1, 5]\n"
     ]
    }
   ],
   "source": [
    "# Using For loop\n",
    "\n",
    "empty=[]\n",
    "for i in l2:\n",
    "    if i not in empty:\n",
    "        empty.append(i)\n",
    "print(empty)"
   ]
  },
  {
   "cell_type": "code",
   "execution_count": 36,
   "id": "e7acce8a",
   "metadata": {},
   "outputs": [
    {
     "name": "stdout",
     "output_type": "stream",
     "text": [
      "[2, 8, 4, 6, 1, 5]\n"
     ]
    }
   ],
   "source": [
    "# Using List comprehension\n",
    "\n",
    "a=[]\n",
    "l=[a.append(i) for i in l2 if i not in a] # using not in operator\n",
    "print(a)"
   ]
  },
  {
   "cell_type": "code",
   "execution_count": 42,
   "id": "1d11c4f5",
   "metadata": {},
   "outputs": [
    {
     "name": "stdout",
     "output_type": "stream",
     "text": [
      "[2, 9, 5, 3, 8, 0]\n"
     ]
    }
   ],
   "source": [
    "# Using List comprehension\n",
    "li=[2,2,2,2,9,9,9,5,3,5,2,3,9,8,0]\n",
    "b=[]\n",
    "[b.append(i) for i in li if b.count(i)==0 ] # using count method\n",
    "print(b)"
   ]
  },
  {
   "cell_type": "markdown",
   "id": "eda1d6ef",
   "metadata": {},
   "source": [
    "### Finding the max value among mixed data types"
   ]
  },
  {
   "cell_type": "code",
   "execution_count": 1,
   "id": "872565cf",
   "metadata": {},
   "outputs": [
    {
     "name": "stdout",
     "output_type": "stream",
     "text": [
      "10\n"
     ]
    }
   ],
   "source": [
    "numbers=[3,6,2,10,8,4,'a',True]\n",
    "m=numbers[0]\n",
    "for i in numbers:\n",
    "    if type(i)==int and i > m:\n",
    "        m=i\n",
    "print(m)"
   ]
  },
  {
   "cell_type": "code",
   "execution_count": 3,
   "id": "aa740161",
   "metadata": {},
   "outputs": [
    {
     "data": {
      "text/plain": [
       "[1, 2, 4, 5, 'a', 'b']"
      ]
     },
     "execution_count": 3,
     "metadata": {},
     "output_type": "execute_result"
    }
   ],
   "source": [
    "ls=[1,2,4,5,'a','b']\n",
    "ls"
   ]
  },
  {
   "cell_type": "code",
   "execution_count": 4,
   "id": "9121da00",
   "metadata": {},
   "outputs": [
    {
     "name": "stdout",
     "output_type": "stream",
     "text": [
      "None\n",
      "None\n",
      "None\n",
      "None\n"
     ]
    }
   ],
   "source": [
    "# Understand the output !!\n",
    "\n",
    "a=[]\n",
    "for i in ls:\n",
    "    if type(i)==int:\n",
    "        print(a.append(i))"
   ]
  },
  {
   "cell_type": "code",
   "execution_count": 5,
   "id": "612e419f",
   "metadata": {},
   "outputs": [
    {
     "name": "stdout",
     "output_type": "stream",
     "text": [
      "[1, 2, 4, 5]\n"
     ]
    }
   ],
   "source": [
    "a=[]\n",
    "for i in ls:\n",
    "    if type(i)==int:\n",
    "        a.append(i)\n",
    "print(a)"
   ]
  },
  {
   "cell_type": "code",
   "execution_count": 8,
   "id": "266fb57e",
   "metadata": {},
   "outputs": [],
   "source": [
    "li=[1,4,6,7]"
   ]
  },
  {
   "cell_type": "code",
   "execution_count": 9,
   "id": "9736230a",
   "metadata": {},
   "outputs": [
    {
     "name": "stdout",
     "output_type": "stream",
     "text": [
      "None\n"
     ]
    }
   ],
   "source": [
    "print(li.append(4))"
   ]
  },
  {
   "cell_type": "code",
   "execution_count": 10,
   "id": "5283dec0",
   "metadata": {},
   "outputs": [
    {
     "name": "stdout",
     "output_type": "stream",
     "text": [
      "None\n"
     ]
    }
   ],
   "source": [
    "print(li.insert(2,4))"
   ]
  },
  {
   "cell_type": "code",
   "execution_count": 1,
   "id": "253516d7",
   "metadata": {},
   "outputs": [
    {
     "data": {
      "text/plain": [
       "[1, 6, 89, 65]"
      ]
     },
     "execution_count": 1,
     "metadata": {},
     "output_type": "execute_result"
    }
   ],
   "source": [
    "l=[1,6 ,89,65]\n",
    "l"
   ]
  },
  {
   "cell_type": "code",
   "execution_count": 3,
   "id": "bbf77bfa",
   "metadata": {},
   "outputs": [
    {
     "data": {
      "text/plain": [
       "89"
      ]
     },
     "execution_count": 3,
     "metadata": {},
     "output_type": "execute_result"
    }
   ],
   "source": [
    "max(l)"
   ]
  },
  {
   "cell_type": "markdown",
   "id": "a9297436",
   "metadata": {},
   "source": [
    "#### Print positive numbers in a list"
   ]
  },
  {
   "cell_type": "code",
   "execution_count": 2,
   "id": "931ff0ab",
   "metadata": {},
   "outputs": [],
   "source": [
    "l=[-10, -21, -4, 45, -66, 93]"
   ]
  },
  {
   "cell_type": "code",
   "execution_count": 3,
   "id": "d537c254",
   "metadata": {},
   "outputs": [
    {
     "name": "stdout",
     "output_type": "stream",
     "text": [
      "[45, 93]\n"
     ]
    }
   ],
   "source": [
    "a=[]\n",
    "for i in l:\n",
    "    if i>0:\n",
    "        a.append(i)\n",
    "print(a) "
   ]
  },
  {
   "cell_type": "markdown",
   "id": "920ed1e3",
   "metadata": {},
   "source": [
    "#### OR"
   ]
  },
  {
   "cell_type": "code",
   "execution_count": 4,
   "id": "ed60853a",
   "metadata": {},
   "outputs": [
    {
     "data": {
      "text/plain": [
       "[45, 93]"
      ]
     },
     "execution_count": 4,
     "metadata": {},
     "output_type": "execute_result"
    }
   ],
   "source": [
    "pos_num=list(filter(lambda x:x>0, l))\n",
    "pos_num"
   ]
  },
  {
   "cell_type": "code",
   "execution_count": 5,
   "id": "b9ecdf76",
   "metadata": {},
   "outputs": [
    {
     "data": {
      "text/plain": [
       "[45, 93]"
      ]
     },
     "execution_count": 5,
     "metadata": {},
     "output_type": "execute_result"
    }
   ],
   "source": [
    "pos_num=[i for i in l if i>0]\n",
    "pos_num"
   ]
  },
  {
   "cell_type": "markdown",
   "id": "cfa341e8",
   "metadata": {},
   "source": [
    "#### Remove empty list from the given list"
   ]
  },
  {
   "cell_type": "code",
   "execution_count": 6,
   "id": "064a4295",
   "metadata": {},
   "outputs": [],
   "source": [
    "test_list = [5, 6, [], 3, [], [], 9]"
   ]
  },
  {
   "cell_type": "code",
   "execution_count": 7,
   "id": "d83a4c60",
   "metadata": {},
   "outputs": [
    {
     "name": "stdout",
     "output_type": "stream",
     "text": [
      "[5, 6, 3, 9]\n"
     ]
    }
   ],
   "source": [
    "a=[]\n",
    "for i in test_list:\n",
    "    if i!=[]:\n",
    "        a.append(i)\n",
    "print(a)"
   ]
  },
  {
   "cell_type": "markdown",
   "id": "bd432ed1",
   "metadata": {},
   "source": [
    "#### Copying a list"
   ]
  },
  {
   "cell_type": "code",
   "execution_count": 8,
   "id": "a1793d98",
   "metadata": {},
   "outputs": [],
   "source": [
    "def Cloning(li1):\n",
    "    li_copy = li1[:]\n",
    "    return li_copy"
   ]
  },
  {
   "cell_type": "code",
   "execution_count": 9,
   "id": "d34dfc1d",
   "metadata": {},
   "outputs": [
    {
     "name": "stdout",
     "output_type": "stream",
     "text": [
      "Original List: [4, 8, 2, 10, 15, 18]\n",
      "After Cloning: [4, 8, 2, 10, 15, 18]\n"
     ]
    }
   ],
   "source": [
    "li1 = [4, 8, 2, 10, 15, 18]\n",
    "li2 = Cloning(li1)\n",
    "print(\"Original List:\", li1)\n",
    "print(\"After Cloning:\", li2)"
   ]
  },
  {
   "cell_type": "code",
   "execution_count": 10,
   "id": "7e15c929",
   "metadata": {},
   "outputs": [
    {
     "data": {
      "text/plain": [
       "[1, 4, 6, 3, 7, 8]"
      ]
     },
     "execution_count": 10,
     "metadata": {},
     "output_type": "execute_result"
    }
   ],
   "source": [
    "lst=[1,4,6,3,7,8]\n",
    "lst"
   ]
  },
  {
   "cell_type": "code",
   "execution_count": 11,
   "id": "d0a2d5f9",
   "metadata": {},
   "outputs": [
    {
     "data": {
      "text/plain": [
       "[1, 4, 6, 3, 7, 8]"
      ]
     },
     "execution_count": 11,
     "metadata": {},
     "output_type": "execute_result"
    }
   ],
   "source": [
    "lst_copy=lst[:]\n",
    "lst_copy"
   ]
  },
  {
   "cell_type": "markdown",
   "id": "288d8779",
   "metadata": {},
   "source": [
    "#### OR"
   ]
  },
  {
   "cell_type": "code",
   "execution_count": 12,
   "id": "e60df787",
   "metadata": {},
   "outputs": [
    {
     "data": {
      "text/plain": [
       "[1, 4, 6, 3, 7, 8]"
      ]
     },
     "execution_count": 12,
     "metadata": {},
     "output_type": "execute_result"
    }
   ],
   "source": [
    "lst"
   ]
  },
  {
   "cell_type": "code",
   "execution_count": 13,
   "id": "17aa7d62",
   "metadata": {},
   "outputs": [],
   "source": [
    "lst_copy=[]\n",
    "lst_copy.extend(lst)"
   ]
  },
  {
   "cell_type": "code",
   "execution_count": 14,
   "id": "437dfdf5",
   "metadata": {},
   "outputs": [
    {
     "data": {
      "text/plain": [
       "[1, 4, 6, 3, 7, 8]"
      ]
     },
     "execution_count": 14,
     "metadata": {},
     "output_type": "execute_result"
    }
   ],
   "source": [
    "lst_copy"
   ]
  },
  {
   "cell_type": "markdown",
   "id": "357b3d08",
   "metadata": {},
   "source": [
    "#### OR"
   ]
  },
  {
   "cell_type": "code",
   "execution_count": 15,
   "id": "f27087bb",
   "metadata": {},
   "outputs": [
    {
     "data": {
      "text/plain": [
       "[1, 4, 6, 3, 7, 8]"
      ]
     },
     "execution_count": 15,
     "metadata": {},
     "output_type": "execute_result"
    }
   ],
   "source": [
    "lst_copy=[i for i in lst]\n",
    "lst"
   ]
  },
  {
   "cell_type": "markdown",
   "id": "9c955466",
   "metadata": {},
   "source": [
    "#### Print cummulative sum in a list"
   ]
  },
  {
   "cell_type": "code",
   "execution_count": 29,
   "id": "0b0ae38f",
   "metadata": {},
   "outputs": [
    {
     "name": "stdout",
     "output_type": "stream",
     "text": [
      "[10, 30, 60, 100, 150]\n"
     ]
    }
   ],
   "source": [
    "list=[10,20,30,40,50]\n",
    "new_list=[]\n",
    "j=0\n",
    "for i in range(0,len(list)):\n",
    "    j=j+list[i]\n",
    "    new_list.append(j)\n",
    "print(new_list)"
   ]
  },
  {
   "cell_type": "markdown",
   "id": "e6de013a",
   "metadata": {},
   "source": [
    "##### Swap first and last element in a list"
   ]
  },
  {
   "cell_type": "code",
   "execution_count": 30,
   "id": "dee8b6b4",
   "metadata": {},
   "outputs": [],
   "source": [
    "# Swap function\n",
    "def swapList(newList):\n",
    "    newList[0], newList[-1] = newList[-1], newList[0]\n",
    "    return newList"
   ]
  },
  {
   "cell_type": "code",
   "execution_count": 31,
   "id": "ba2e43e2",
   "metadata": {},
   "outputs": [
    {
     "name": "stdout",
     "output_type": "stream",
     "text": [
      "[24, 35, 9, 56, 12]\n"
     ]
    }
   ],
   "source": [
    "newList = [12, 35, 9, 56, 24]\n",
    "print(swapList(newList))"
   ]
  },
  {
   "cell_type": "markdown",
   "id": "8df2b479",
   "metadata": {},
   "source": [
    "#### Python code to Check if element exists in list or not"
   ]
  },
  {
   "cell_type": "code",
   "execution_count": 32,
   "id": "5948985c",
   "metadata": {},
   "outputs": [],
   "source": [
    "lst=[ 1, 6, 3, 5, 3, 4 ]"
   ]
  },
  {
   "cell_type": "code",
   "execution_count": 33,
   "id": "301f7c93",
   "metadata": {},
   "outputs": [
    {
     "name": "stdout",
     "output_type": "stream",
     "text": [
      "exists\n"
     ]
    }
   ],
   "source": [
    "i=4\n",
    "if i in lst:\n",
    "    print('exists')\n",
    "else:\n",
    "    print('not exists')"
   ]
  },
  {
   "cell_type": "markdown",
   "id": "76ff2abd",
   "metadata": {},
   "source": [
    "#### OR"
   ]
  },
  {
   "cell_type": "code",
   "execution_count": 34,
   "id": "e99c5131",
   "metadata": {},
   "outputs": [
    {
     "name": "stdout",
     "output_type": "stream",
     "text": [
      "True\n"
     ]
    }
   ],
   "source": [
    "if 4 in lst:\n",
    "    print(True)\n",
    "else:\n",
    "    print(False)"
   ]
  },
  {
   "cell_type": "markdown",
   "id": "b477ae7b",
   "metadata": {},
   "source": [
    "##### Print second largest element in a list"
   ]
  },
  {
   "cell_type": "code",
   "execution_count": 35,
   "id": "c66fe5f7",
   "metadata": {},
   "outputs": [],
   "source": [
    "lst=[10,90,45,34,34,100]"
   ]
  },
  {
   "cell_type": "code",
   "execution_count": 36,
   "id": "28bc5527",
   "metadata": {},
   "outputs": [
    {
     "name": "stdout",
     "output_type": "stream",
     "text": [
      "[10, 90, 45, 34, 100]\n"
     ]
    }
   ],
   "source": [
    "lst_new=[]\n",
    "for i in lst:\n",
    "    if i not in lst_new:\n",
    "        lst_new.append(i)\n",
    "print(lst_new)"
   ]
  },
  {
   "cell_type": "code",
   "execution_count": 37,
   "id": "8c422fae",
   "metadata": {},
   "outputs": [
    {
     "data": {
      "text/plain": [
       "[10, 34, 45, 90, 100]"
      ]
     },
     "execution_count": 37,
     "metadata": {},
     "output_type": "execute_result"
    }
   ],
   "source": [
    "lst_new.sort()\n",
    "lst_new"
   ]
  },
  {
   "cell_type": "code",
   "execution_count": 38,
   "id": "a96cc8c7",
   "metadata": {},
   "outputs": [
    {
     "data": {
      "text/plain": [
       "90"
      ]
     },
     "execution_count": 38,
     "metadata": {},
     "output_type": "execute_result"
    }
   ],
   "source": [
    "lst_new[-2]"
   ]
  },
  {
   "cell_type": "markdown",
   "id": "9e136efa",
   "metadata": {},
   "source": [
    "#### Sum of elements in a list"
   ]
  },
  {
   "cell_type": "code",
   "execution_count": 39,
   "id": "1bc9dae6",
   "metadata": {},
   "outputs": [
    {
     "name": "stdout",
     "output_type": "stream",
     "text": [
      "The sum of numbers is 74\n"
     ]
    }
   ],
   "source": [
    "list1 = [11, 5, 17, 18, 23]\n",
    "number=0\n",
    "for i in range(0, len(list1)):\n",
    "    number=number + list1[i]\n",
    "print('The sum of numbers is', number)"
   ]
  },
  {
   "cell_type": "code",
   "execution_count": 40,
   "id": "9d11f8a8",
   "metadata": {},
   "outputs": [
    {
     "data": {
      "text/plain": [
       "[1, 4, 2, 2, 5, 6, 3, 2, 3]"
      ]
     },
     "execution_count": 40,
     "metadata": {},
     "output_type": "execute_result"
    }
   ],
   "source": [
    "lst=[1,4,2,2,5,6,3,2,3]\n",
    "lst"
   ]
  },
  {
   "cell_type": "markdown",
   "id": "30751324",
   "metadata": {},
   "source": [
    "##### Count number of occurrences of an element in a list"
   ]
  },
  {
   "cell_type": "code",
   "execution_count": 48,
   "id": "bf1b36ea",
   "metadata": {},
   "outputs": [],
   "source": [
    "def count(lst, x):\n",
    "    count = 0\n",
    "    for i in lst:\n",
    "        if i == x:\n",
    "            count = count + 1\n",
    "    return count"
   ]
  },
  {
   "cell_type": "code",
   "execution_count": 49,
   "id": "ad3910e0",
   "metadata": {},
   "outputs": [
    {
     "data": {
      "text/plain": [
       "5"
      ]
     },
     "execution_count": 49,
     "metadata": {},
     "output_type": "execute_result"
    }
   ],
   "source": [
    "lst = [8, 6, 8, 10, 8, 20, 10, 8, 8]\n",
    "x = 8\n",
    "count(lst, x)"
   ]
  },
  {
   "cell_type": "markdown",
   "id": "19314f9a",
   "metadata": {},
   "source": [
    "##### Swap elements at given positions"
   ]
  },
  {
   "cell_type": "code",
   "execution_count": 44,
   "id": "962d9db4",
   "metadata": {},
   "outputs": [],
   "source": [
    "def swap_position(lst, pos1, pos2):\n",
    "    lst[pos1], lst[pos2]=lst[pos2], lst[pos1]\n",
    "    return lst"
   ]
  },
  {
   "cell_type": "code",
   "execution_count": 45,
   "id": "309efbd6",
   "metadata": {},
   "outputs": [
    {
     "data": {
      "text/plain": [
       "[1, 4, 7, 5, 5, 6]"
      ]
     },
     "execution_count": 45,
     "metadata": {},
     "output_type": "execute_result"
    }
   ],
   "source": [
    "lst=[1,5,7,4,5,6]\n",
    "pos1=1\n",
    "pos2=3\n",
    "swap_position(lst, pos1, pos2)"
   ]
  },
  {
   "cell_type": "markdown",
   "id": "89640c1d",
   "metadata": {},
   "source": [
    "##### Reversing a list using slicing technique"
   ]
  },
  {
   "cell_type": "code",
   "execution_count": 46,
   "id": "b544a7c3",
   "metadata": {},
   "outputs": [],
   "source": [
    "def reverse_lst(lst):\n",
    "    lst_reverse=lst[::-1]\n",
    "    return lst_reverse"
   ]
  },
  {
   "cell_type": "code",
   "execution_count": 47,
   "id": "f7953560",
   "metadata": {},
   "outputs": [
    {
     "data": {
      "text/plain": [
       "[4, 7, 6, 4, 3, 1]"
      ]
     },
     "execution_count": 47,
     "metadata": {},
     "output_type": "execute_result"
    }
   ],
   "source": [
    "lst=[1,3,4,6,7,4]\n",
    "reverse_lst(lst)"
   ]
  },
  {
   "cell_type": "markdown",
   "id": "1c7782c2",
   "metadata": {},
   "source": [
    "##### Given a list of numbers and a number k, write a Python program to check whether the sum of any two numbers from the list is equal to k or not.\n",
    "For example, given [1, 5, 11, 5] and k = 16, return true since 11 + 5 is 16."
   ]
  },
  {
   "cell_type": "code",
   "execution_count": 88,
   "id": "7d5367b3",
   "metadata": {},
   "outputs": [],
   "source": [
    "def check_sum(nums, k):   \n",
    "    for i in range(len(nums)):\n",
    "        for j in range(i+1, len(nums)):\n",
    "            if nums[i] + nums[j] == k:\n",
    "                return True\n",
    "            return False"
   ]
  },
  {
   "cell_type": "code",
   "execution_count": 89,
   "id": "3810c79b",
   "metadata": {},
   "outputs": [
    {
     "name": "stdout",
     "output_type": "stream",
     "text": [
      "False\n",
      "True\n"
     ]
    }
   ],
   "source": [
    "print(check_sum([1, 1, 0], 0))\n",
    "print(check_sum([20, 20, 4, 5], 40))"
   ]
  },
  {
   "cell_type": "markdown",
   "id": "a8c583b4",
   "metadata": {},
   "source": [
    "#### Remove Kth element from a list"
   ]
  },
  {
   "cell_type": "code",
   "execution_count": 56,
   "id": "980e1d2b",
   "metadata": {},
   "outputs": [],
   "source": [
    "def remove_kth_element(n_list, L):\n",
    "    result=n_list[:L-1] + n_list[L:]\n",
    "    return result"
   ]
  },
  {
   "cell_type": "code",
   "execution_count": 58,
   "id": "4ff0fbd7",
   "metadata": {},
   "outputs": [
    {
     "data": {
      "text/plain": [
       "[1, 1, 3, 4, 4, 5, 1]"
      ]
     },
     "execution_count": 58,
     "metadata": {},
     "output_type": "execute_result"
    }
   ],
   "source": [
    "n_list = [1,1,2,3,4,4,5,1]\n",
    "kth_position = 3\n",
    "remove_kth_element(n_list, kth_position)"
   ]
  },
  {
   "cell_type": "markdown",
   "id": "33344124",
   "metadata": {},
   "source": [
    "##### Python function that takes two lists and returns True if they have at least one common member."
   ]
  },
  {
   "cell_type": "code",
   "execution_count": 50,
   "id": "8a385f50",
   "metadata": {},
   "outputs": [],
   "source": [
    "def common_data(list1, list2):\n",
    "     result = False\n",
    "     for x in list1:\n",
    "         for y in list2:\n",
    "             if x == y:\n",
    "                 result = True\n",
    "                 return result"
   ]
  },
  {
   "cell_type": "code",
   "execution_count": 51,
   "id": "188feace",
   "metadata": {},
   "outputs": [
    {
     "name": "stdout",
     "output_type": "stream",
     "text": [
      "True\n"
     ]
    }
   ],
   "source": [
    "print(common_data([1,2,3,4,5], [5,6,7,8,9]))"
   ]
  },
  {
   "cell_type": "code",
   "execution_count": 52,
   "id": "f88301a1",
   "metadata": {},
   "outputs": [
    {
     "name": "stdout",
     "output_type": "stream",
     "text": [
      "None\n"
     ]
    }
   ],
   "source": [
    "print(common_data([1,2,3,4,5], [10,6,7,8,9]))"
   ]
  },
  {
   "cell_type": "markdown",
   "id": "5deae46c",
   "metadata": {},
   "source": [
    "###### OR"
   ]
  },
  {
   "cell_type": "code",
   "execution_count": 53,
   "id": "feb47952",
   "metadata": {},
   "outputs": [],
   "source": [
    "def common_data(list1, list2):\n",
    "     flag=0\n",
    "     for x in list1:\n",
    "         for y in list2:\n",
    "             if x == y:\n",
    "                 flag=1\n",
    "                 break\n",
    "     if flag==1:\n",
    "        return True\n",
    "     else:\n",
    "        return False"
   ]
  },
  {
   "cell_type": "code",
   "execution_count": 54,
   "id": "c0548668",
   "metadata": {},
   "outputs": [
    {
     "name": "stdout",
     "output_type": "stream",
     "text": [
      "True\n"
     ]
    }
   ],
   "source": [
    "print(common_data([1,2,3,4,5], [5,6,7,8,9]))"
   ]
  },
  {
   "cell_type": "code",
   "execution_count": 49,
   "id": "33911523",
   "metadata": {},
   "outputs": [
    {
     "name": "stdout",
     "output_type": "stream",
     "text": [
      "False\n"
     ]
    }
   ],
   "source": [
    "print(common_data([1,2,3,4,5], [10,6,7,8,9]))"
   ]
  },
  {
   "cell_type": "markdown",
   "id": "4cf629ee",
   "metadata": {},
   "source": [
    "##### Python program to iterate over two lists simultaneously."
   ]
  },
  {
   "cell_type": "code",
   "execution_count": 66,
   "id": "d0715caa",
   "metadata": {},
   "outputs": [
    {
     "name": "stdout",
     "output_type": "stream",
     "text": [
      "1 red\n",
      "2 white\n",
      "3 black\n"
     ]
    }
   ],
   "source": [
    "num = [1, 2, 3]\n",
    "color = ['red', 'white', 'black']\n",
    "for (a,b) in zip(num, color):\n",
    "     print(a, b)"
   ]
  },
  {
   "cell_type": "markdown",
   "id": "b90d4733",
   "metadata": {},
   "source": [
    "##### Write a Python program to compute average of two given lists."
   ]
  },
  {
   "cell_type": "code",
   "execution_count": 70,
   "id": "b0a3431c",
   "metadata": {},
   "outputs": [],
   "source": [
    "def average_two_lists(nums1, nums2):\n",
    "    result = sum(nums1 + nums2) / len(nums1 + nums2) \n",
    "    return result"
   ]
  },
  {
   "cell_type": "code",
   "execution_count": 72,
   "id": "2e05e9bf",
   "metadata": {},
   "outputs": [
    {
     "name": "stdout",
     "output_type": "stream",
     "text": [
      "3.823529411764706\n"
     ]
    }
   ],
   "source": [
    "nums1 = [1, 1, 3, 4, 4, 5, 6, 7]\n",
    "nums2 = [0, 1, 2, 3, 4, 4, 5, 7, 8]\n",
    "print(average_two_lists(nums1, nums2))"
   ]
  },
  {
   "cell_type": "markdown",
   "id": "805ffafd",
   "metadata": {},
   "source": [
    "##### Write  a python program to find the least positive integer missing from a list of input integers"
   ]
  },
  {
   "cell_type": "code",
   "execution_count": 13,
   "id": "e4025128",
   "metadata": {},
   "outputs": [],
   "source": [
    "l=[1,-1,3,7,8,0,2,5,-6, 0]"
   ]
  },
  {
   "cell_type": "code",
   "execution_count": 25,
   "id": "5a62f9a7",
   "metadata": {},
   "outputs": [],
   "source": [
    "def fun(lst):\n",
    "    for i in range(1, len(lst)+1):\n",
    "        if i not in lst:\n",
    "            print(i)\n",
    "            break"
   ]
  },
  {
   "cell_type": "code",
   "execution_count": 26,
   "id": "90573d10",
   "metadata": {},
   "outputs": [
    {
     "name": "stdout",
     "output_type": "stream",
     "text": [
      "4\n"
     ]
    }
   ],
   "source": [
    "fun(l)"
   ]
  },
  {
   "cell_type": "code",
   "execution_count": 27,
   "id": "b490b23b",
   "metadata": {},
   "outputs": [
    {
     "name": "stdout",
     "output_type": "stream",
     "text": [
      "1\n"
     ]
    }
   ],
   "source": [
    "lst=[3,7,-1,8,9,10]\n",
    "fun(lst)"
   ]
  },
  {
   "cell_type": "code",
   "execution_count": 28,
   "id": "0df0c925",
   "metadata": {},
   "outputs": [
    {
     "name": "stdout",
     "output_type": "stream",
     "text": [
      "4\n"
     ]
    }
   ],
   "source": [
    "l=[2,3,7,1,6,8,-1,-10,15]\n",
    "fun(l)"
   ]
  },
  {
   "cell_type": "code",
   "execution_count": 29,
   "id": "24214ce0",
   "metadata": {},
   "outputs": [
    {
     "name": "stdout",
     "output_type": "stream",
     "text": [
      "3\n"
     ]
    }
   ],
   "source": [
    "l=[1,2,5,6,7,11,17,67,100]\n",
    "fun(l)"
   ]
  },
  {
   "cell_type": "code",
   "execution_count": null,
   "id": "d96b6fba",
   "metadata": {},
   "outputs": [],
   "source": []
  },
  {
   "cell_type": "code",
   "execution_count": 30,
   "id": "4614765e",
   "metadata": {},
   "outputs": [],
   "source": [
    "num1 = [1, 3, 5, 7, 9, 10]\n",
    "num2 = [2, 4, 6, 8]"
   ]
  },
  {
   "cell_type": "code",
   "execution_count": 31,
   "id": "bd5fd8c3",
   "metadata": {},
   "outputs": [],
   "source": [
    "num1[-1]=num2"
   ]
  },
  {
   "cell_type": "code",
   "execution_count": 32,
   "id": "1fd6e48c",
   "metadata": {},
   "outputs": [
    {
     "name": "stdout",
     "output_type": "stream",
     "text": [
      "[1, 3, 5, 7, 9, [2, 4, 6, 8]]\n"
     ]
    }
   ],
   "source": [
    "print(num1)"
   ]
  },
  {
   "cell_type": "markdown",
   "id": "b6fd39e4",
   "metadata": {},
   "source": [
    "#### Program to find most frequent element in a list"
   ]
  },
  {
   "cell_type": "code",
   "execution_count": 57,
   "id": "838d37ac",
   "metadata": {},
   "outputs": [],
   "source": [
    "def most_frequent(List):\n",
    "    counter = 0\n",
    "    num = List[0]\n",
    "     \n",
    "    for i in List:\n",
    "        curr_frequency = List.count(i)\n",
    "        if(curr_frequency> counter):\n",
    "            counter = curr_frequency\n",
    "            num=i\n",
    "    return num"
   ]
  },
  {
   "cell_type": "code",
   "execution_count": 58,
   "id": "534d2de0",
   "metadata": {},
   "outputs": [
    {
     "name": "stdout",
     "output_type": "stream",
     "text": [
      "2\n"
     ]
    }
   ],
   "source": [
    "List = [2, 1, 2, 2, 1, 3]\n",
    "print(most_frequent(List))"
   ]
  },
  {
   "cell_type": "markdown",
   "id": "b86a0a59",
   "metadata": {},
   "source": [
    "#### Write a Python program to count integer in a given mixed list"
   ]
  },
  {
   "cell_type": "code",
   "execution_count": 79,
   "id": "7e738517",
   "metadata": {},
   "outputs": [],
   "source": [
    "list1 = [1, 'abcd', 3, 1.2, 4, 'xyz', 5, 'pqr', 7, -5, -12.22]"
   ]
  },
  {
   "cell_type": "code",
   "execution_count": 82,
   "id": "5ad21f10",
   "metadata": {},
   "outputs": [
    {
     "name": "stdout",
     "output_type": "stream",
     "text": [
      "6\n"
     ]
    }
   ],
   "source": [
    "count=0\n",
    "for i in list1:\n",
    "    if type(i)==int:\n",
    "        count+=1\n",
    "print(count)"
   ]
  },
  {
   "cell_type": "markdown",
   "id": "62eb521d",
   "metadata": {},
   "source": [
    "##### Find missing numbers in a sorted list "
   ]
  },
  {
   "cell_type": "code",
   "execution_count": 84,
   "id": "1a3587ee",
   "metadata": {},
   "outputs": [],
   "source": [
    "def find_missing(lst):\n",
    "    return [x for x in range(lst[0], lst[-1]+1)\n",
    "                               if x not in lst]"
   ]
  },
  {
   "cell_type": "code",
   "execution_count": 85,
   "id": "744db450",
   "metadata": {},
   "outputs": [
    {
     "name": "stdout",
     "output_type": "stream",
     "text": [
      "[3, 5, 8]\n"
     ]
    }
   ],
   "source": [
    "# Driver code\n",
    "lst = [1, 2, 4, 6, 7, 9, 10]\n",
    "print(find_missing(lst))"
   ]
  },
  {
   "cell_type": "markdown",
   "id": "893fefd0",
   "metadata": {},
   "source": [
    "#### Print second largest number"
   ]
  },
  {
   "cell_type": "code",
   "execution_count": 86,
   "id": "a1b34a1a",
   "metadata": {},
   "outputs": [],
   "source": [
    "def calc_largest(lst):  \n",
    "    second_largest = lst[0]  \n",
    "    largest_val = lst[0]  \n",
    "    for i in range(len(lst)):  \n",
    "        if lst[i] > largest_val:  \n",
    "            largest_val = lst[i]  \n",
    "  \n",
    "    for i in range(len(lst)):  \n",
    "        if lst[i] > second_largest and lst[i] != largest_val:  \n",
    "            second_largest = lst[i]  \n",
    "  \n",
    "    return second_largest  "
   ]
  },
  {
   "cell_type": "code",
   "execution_count": 87,
   "id": "7e4ac7ca",
   "metadata": {},
   "outputs": [
    {
     "name": "stdout",
     "output_type": "stream",
     "text": [
      "30\n"
     ]
    }
   ],
   "source": [
    "print(calc_largest([20, 30, 40, 25, 10])) "
   ]
  },
  {
   "cell_type": "markdown",
   "id": "50cc9d9d",
   "metadata": {},
   "source": [
    "#### Find length of the list"
   ]
  },
  {
   "cell_type": "code",
   "execution_count": 90,
   "id": "bb2ef0b4",
   "metadata": {},
   "outputs": [],
   "source": [
    "test_list = [ 1, 4, 5, 7, 8 ]"
   ]
  },
  {
   "cell_type": "code",
   "execution_count": 91,
   "id": "d9e82eba",
   "metadata": {},
   "outputs": [
    {
     "name": "stdout",
     "output_type": "stream",
     "text": [
      "5\n"
     ]
    }
   ],
   "source": [
    "count=0\n",
    "for i in test_list:\n",
    "    count=count+1\n",
    "print(count)"
   ]
  },
  {
   "cell_type": "markdown",
   "id": "1badd908",
   "metadata": {},
   "source": [
    "#### Python program to count positive and negative numbers in a list"
   ]
  },
  {
   "cell_type": "code",
   "execution_count": 92,
   "id": "5ccf4504",
   "metadata": {},
   "outputs": [],
   "source": [
    "list1 = [10, -21, 4, -45, 66, -93, 1]"
   ]
  },
  {
   "cell_type": "code",
   "execution_count": 93,
   "id": "7c9d99bb",
   "metadata": {},
   "outputs": [],
   "source": [
    "pos_count, neg_count=0,0\n",
    "for i in list1:\n",
    "    if i>0:\n",
    "        pos_count=pos_count+1\n",
    "    else:\n",
    "        neg_count=neg_count+1    "
   ]
  },
  {
   "cell_type": "code",
   "execution_count": 95,
   "id": "2f3856e2",
   "metadata": {},
   "outputs": [
    {
     "name": "stdout",
     "output_type": "stream",
     "text": [
      "4\n",
      "3\n"
     ]
    }
   ],
   "source": [
    "print(pos_count)\n",
    "print(neg_count)"
   ]
  },
  {
   "cell_type": "markdown",
   "id": "75747d74",
   "metadata": {},
   "source": [
    "#### Program to find sum of all items in a Dictionary"
   ]
  },
  {
   "cell_type": "code",
   "execution_count": 97,
   "id": "5fa193e8",
   "metadata": {},
   "outputs": [],
   "source": [
    "def returnSum(dict):\n",
    "    sum = 0\n",
    "    for i in dict.values():\n",
    "        sum = sum + i\n",
    " \n",
    "    return sum"
   ]
  },
  {
   "cell_type": "code",
   "execution_count": 98,
   "id": "a3bc5502",
   "metadata": {},
   "outputs": [
    {
     "name": "stdout",
     "output_type": "stream",
     "text": [
      "Sum : 600\n"
     ]
    }
   ],
   "source": [
    "dict = {'a': 100, 'b': 200, 'c': 300}\n",
    "print(\"Sum :\", returnSum(dict))"
   ]
  },
  {
   "cell_type": "markdown",
   "id": "f6a508d2",
   "metadata": {},
   "source": [
    "### OR"
   ]
  },
  {
   "cell_type": "code",
   "execution_count": 99,
   "id": "dc70a50d",
   "metadata": {},
   "outputs": [],
   "source": [
    "def returnSum(myDict):\n",
    " \n",
    "    list = []\n",
    "    \n",
    "    for i in myDict:\n",
    "        list.append(myDict[i])\n",
    "    final = sum(list)\n",
    " \n",
    "    return final"
   ]
  },
  {
   "cell_type": "code",
   "execution_count": 100,
   "id": "324aaf8c",
   "metadata": {},
   "outputs": [
    {
     "name": "stdout",
     "output_type": "stream",
     "text": [
      "Sum : 600\n"
     ]
    }
   ],
   "source": [
    "dict = {'a': 100, 'b': 200, 'c': 300}\n",
    "print(\"Sum :\", returnSum(dict))"
   ]
  },
  {
   "cell_type": "markdown",
   "id": "03e136ee",
   "metadata": {},
   "source": [
    "#### OR"
   ]
  },
  {
   "cell_type": "code",
   "execution_count": 101,
   "id": "c8ae477a",
   "metadata": {},
   "outputs": [],
   "source": [
    "def returnSum(dict):\n",
    " \n",
    "    sum = 0\n",
    "    for i in dict:\n",
    "        sum = sum + dict[i]\n",
    " \n",
    "    return sum"
   ]
  },
  {
   "cell_type": "code",
   "execution_count": 102,
   "id": "574952f6",
   "metadata": {},
   "outputs": [
    {
     "name": "stdout",
     "output_type": "stream",
     "text": [
      "Sum : 600\n"
     ]
    }
   ],
   "source": [
    "dict = {'a': 100, 'b': 200, 'c': 300}\n",
    "print(\"Sum :\", returnSum(dict))"
   ]
  },
  {
   "cell_type": "markdown",
   "id": "3a203ba7",
   "metadata": {},
   "source": [
    "#### Program to check whether a given key already exists in a dictionary."
   ]
  },
  {
   "cell_type": "code",
   "execution_count": 103,
   "id": "3b0c23af",
   "metadata": {},
   "outputs": [],
   "source": [
    "def checkKey(dic, key):\n",
    "    if key in dic.keys():\n",
    "        print(\"Present, \", end =\" \")\n",
    "        print(\"value =\", dic[key])\n",
    "    else:\n",
    "        print(\"Not present\")"
   ]
  },
  {
   "cell_type": "code",
   "execution_count": 104,
   "id": "8a5e1d7f",
   "metadata": {},
   "outputs": [
    {
     "name": "stdout",
     "output_type": "stream",
     "text": [
      "Present,  value = 200\n"
     ]
    }
   ],
   "source": [
    "dic = {'a': 100, 'b':200, 'c':300}\n",
    "key = 'b'\n",
    "checkKey(dic, key)"
   ]
  },
  {
   "cell_type": "markdown",
   "id": "c975ee82",
   "metadata": {},
   "source": [
    "##### Combine two lists in one dictionary"
   ]
  },
  {
   "cell_type": "code",
   "execution_count": 105,
   "id": "a918e411",
   "metadata": {},
   "outputs": [],
   "source": [
    "l1=[1,2,3]\n",
    "l2=['Apple','Mango','Guava']"
   ]
  },
  {
   "cell_type": "code",
   "execution_count": 106,
   "id": "4b8808c9",
   "metadata": {},
   "outputs": [
    {
     "name": "stdout",
     "output_type": "stream",
     "text": [
      "{1: 'Apple', 2: 'Mango', 3: 'Guava'}\n"
     ]
    }
   ],
   "source": [
    "d={}\n",
    "for i in range(len(l1)):\n",
    "    d.update({l1[i]:l2[i]})\n",
    "print(d)"
   ]
  },
  {
   "cell_type": "code",
   "execution_count": 108,
   "id": "604679fe",
   "metadata": {},
   "outputs": [
    {
     "data": {
      "text/plain": [
       "dict_keys([1, 2, 3])"
      ]
     },
     "execution_count": 108,
     "metadata": {},
     "output_type": "execute_result"
    }
   ],
   "source": [
    "d.keys()"
   ]
  },
  {
   "cell_type": "code",
   "execution_count": 109,
   "id": "269bd4a1",
   "metadata": {},
   "outputs": [
    {
     "data": {
      "text/plain": [
       "dict_values(['Apple', 'Mango', 'Guava'])"
      ]
     },
     "execution_count": 109,
     "metadata": {},
     "output_type": "execute_result"
    }
   ],
   "source": [
    "d.values()"
   ]
  },
  {
   "cell_type": "code",
   "execution_count": 110,
   "id": "41cdade9",
   "metadata": {},
   "outputs": [
    {
     "data": {
      "text/plain": [
       "dict_items([(1, 'Apple'), (2, 'Mango'), (3, 'Guava')])"
      ]
     },
     "execution_count": 110,
     "metadata": {},
     "output_type": "execute_result"
    }
   ],
   "source": [
    "d.items()"
   ]
  },
  {
   "cell_type": "markdown",
   "id": "278c4473",
   "metadata": {},
   "source": [
    "#### Create a dictionary having the word and it's corresponding length greater than 5 else give the length as 'short'"
   ]
  },
  {
   "cell_type": "code",
   "execution_count": 111,
   "id": "ad7aa08e",
   "metadata": {},
   "outputs": [],
   "source": [
    "words=['data', 'science', 'machine', 'learning','good', 'morning']"
   ]
  },
  {
   "cell_type": "code",
   "execution_count": 112,
   "id": "c32ed5e8",
   "metadata": {},
   "outputs": [
    {
     "name": "stdout",
     "output_type": "stream",
     "text": [
      "{'data': 'short', 'science': 7, 'machine': 7, 'learning': 8, 'good': 'short', 'morning': 7}\n"
     ]
    }
   ],
   "source": [
    "words_dict={}\n",
    "for i in words:\n",
    "    if len(i)>5:\n",
    "        words_dict[i]=len(i)\n",
    "    else:\n",
    "        words_dict[i]='short'\n",
    "print(words_dict)"
   ]
  },
  {
   "cell_type": "markdown",
   "id": "5e2fbdb9",
   "metadata": {},
   "source": [
    " #### Find the elements in a list in which elements are ended with letter 'b' and the length of that element is greater than 2"
   ]
  },
  {
   "cell_type": "code",
   "execution_count": 113,
   "id": "245d7479",
   "metadata": {},
   "outputs": [],
   "source": [
    "names=['ah', 'Bh','Fd','acdb', 'cb', 'Tb','Yd','Chb', 'Tdb' ]"
   ]
  },
  {
   "cell_type": "code",
   "execution_count": 114,
   "id": "1b67a8cb",
   "metadata": {},
   "outputs": [
    {
     "name": "stdout",
     "output_type": "stream",
     "text": [
      "['acdb', 'Chb', 'Tdb']\n"
     ]
    }
   ],
   "source": [
    "lst=[]\n",
    "for i in names:\n",
    "    if i.endswith('b') and len(i)>2:\n",
    "        lst.append(i)\n",
    "print(lst)"
   ]
  },
  {
   "cell_type": "markdown",
   "id": "8841a5c2",
   "metadata": {},
   "source": [
    "#### Given a list of numbers, display the numbers in the form '1=Odd', '2=Even' respectively for odd and even"
   ]
  },
  {
   "cell_type": "code",
   "execution_count": 115,
   "id": "358a2d7a",
   "metadata": {},
   "outputs": [],
   "source": [
    "lst=[3, 10, 4, 5, 7, 6]"
   ]
  },
  {
   "cell_type": "code",
   "execution_count": 116,
   "id": "429cc4bc",
   "metadata": {},
   "outputs": [
    {
     "name": "stdout",
     "output_type": "stream",
     "text": [
      "['3=Odd', '10=Even', '4=Even', '5=Odd', '7=Odd', '6=Even']\n"
     ]
    }
   ],
   "source": [
    "l=[]\n",
    "for i in lst:\n",
    "    if i%2==0:\n",
    "        l.append(str(i)+'=Even')\n",
    "    else:\n",
    "        l.append(str(i)+'=Odd')\n",
    "print(l)"
   ]
  },
  {
   "cell_type": "markdown",
   "id": "c73401fe",
   "metadata": {},
   "source": [
    "#### Write a function that calculates the sum of two integers without using the + or – operators…"
   ]
  },
  {
   "cell_type": "code",
   "execution_count": 118,
   "id": "7e2fe507",
   "metadata": {},
   "outputs": [],
   "source": [
    "def get_sum(a, b):\n",
    "    nums = []\n",
    "    nums.append(a)\n",
    "    nums.append(b)\n",
    "    return sum(nums)"
   ]
  },
  {
   "cell_type": "code",
   "execution_count": 119,
   "id": "2000715a",
   "metadata": {},
   "outputs": [
    {
     "data": {
      "text/plain": [
       "25"
      ]
     },
     "execution_count": 119,
     "metadata": {},
     "output_type": "execute_result"
    }
   ],
   "source": [
    "get_sum(10, 15)"
   ]
  },
  {
   "cell_type": "markdown",
   "id": "3cb16c95",
   "metadata": {},
   "source": [
    "### Problem Statement :- Given an array of integers nums and an integer target, return indices of the two numbers such that they add up to target.\n",
    "\n",
    "You may assume that each input would have exactly one solution, and you may not use the same element twice.\n",
    "You can return the answer in any order.\n",
    "Input: nums = [2,7,11,15], target = 9\n",
    "Output: [0,1]\n",
    "\n",
    "Input: nums = [3,2,4], target = 6\n",
    "Output: [1,2]\n",
    "\n",
    "Input: nums = [3,3], target = 6\n",
    "Output: [0,1]"
   ]
  },
  {
   "cell_type": "code",
   "execution_count": 124,
   "id": "538100d0",
   "metadata": {},
   "outputs": [],
   "source": [
    "def two_sum(nums, target):\n",
    "    a_dict={}\n",
    "    for i in range(len(nums)):\n",
    "        diff=target-nums[i]\n",
    "        if diff in a_dict:\n",
    "            return(i, a_dict[diff])\n",
    "        else:\n",
    "            a_dict[nums[i]]=i"
   ]
  },
  {
   "cell_type": "code",
   "execution_count": 125,
   "id": "b85bb8d0",
   "metadata": {},
   "outputs": [
    {
     "name": "stdout",
     "output_type": "stream",
     "text": [
      "(1, 0)\n"
     ]
    }
   ],
   "source": [
    "print(two_sum([2,7,11,15], 9))"
   ]
  },
  {
   "cell_type": "code",
   "execution_count": 126,
   "id": "1a9926e4",
   "metadata": {},
   "outputs": [
    {
     "name": "stdout",
     "output_type": "stream",
     "text": [
      "(2, 1)\n"
     ]
    }
   ],
   "source": [
    "print(two_sum([3,2,4], 6))"
   ]
  },
  {
   "cell_type": "code",
   "execution_count": 127,
   "id": "3b2ae47f",
   "metadata": {},
   "outputs": [
    {
     "name": "stdout",
     "output_type": "stream",
     "text": [
      "(1, 0)\n"
     ]
    }
   ],
   "source": [
    "print(two_sum([3,3], 6))"
   ]
  },
  {
   "cell_type": "markdown",
   "id": "2bb525b3",
   "metadata": {},
   "source": [
    "##### Write a Python code to find the second lowest value in each column in a given DataFrame"
   ]
  },
  {
   "cell_type": "code",
   "execution_count": 2,
   "id": "280aecd5",
   "metadata": {},
   "outputs": [
    {
     "data": {
      "text/html": [
       "<div>\n",
       "<style scoped>\n",
       "    .dataframe tbody tr th:only-of-type {\n",
       "        vertical-align: middle;\n",
       "    }\n",
       "\n",
       "    .dataframe tbody tr th {\n",
       "        vertical-align: top;\n",
       "    }\n",
       "\n",
       "    .dataframe thead th {\n",
       "        text-align: right;\n",
       "    }\n",
       "</style>\n",
       "<table border=\"1\" class=\"dataframe\">\n",
       "  <thead>\n",
       "    <tr style=\"text-align: right;\">\n",
       "      <th></th>\n",
       "      <th>Id</th>\n",
       "      <th>Salary</th>\n",
       "      <th>Age</th>\n",
       "    </tr>\n",
       "  </thead>\n",
       "  <tbody>\n",
       "    <tr>\n",
       "      <th>0</th>\n",
       "      <td>1</td>\n",
       "      <td>20000</td>\n",
       "      <td>22</td>\n",
       "    </tr>\n",
       "    <tr>\n",
       "      <th>1</th>\n",
       "      <td>2</td>\n",
       "      <td>30000</td>\n",
       "      <td>23</td>\n",
       "    </tr>\n",
       "    <tr>\n",
       "      <th>2</th>\n",
       "      <td>3</td>\n",
       "      <td>50000</td>\n",
       "      <td>24</td>\n",
       "    </tr>\n",
       "    <tr>\n",
       "      <th>3</th>\n",
       "      <td>4</td>\n",
       "      <td>40000</td>\n",
       "      <td>25</td>\n",
       "    </tr>\n",
       "    <tr>\n",
       "      <th>4</th>\n",
       "      <td>5</td>\n",
       "      <td>80000</td>\n",
       "      <td>26</td>\n",
       "    </tr>\n",
       "    <tr>\n",
       "      <th>5</th>\n",
       "      <td>6</td>\n",
       "      <td>90000</td>\n",
       "      <td>25</td>\n",
       "    </tr>\n",
       "    <tr>\n",
       "      <th>6</th>\n",
       "      <td>7</td>\n",
       "      <td>350000</td>\n",
       "      <td>26</td>\n",
       "    </tr>\n",
       "    <tr>\n",
       "      <th>7</th>\n",
       "      <td>8</td>\n",
       "      <td>55000</td>\n",
       "      <td>27</td>\n",
       "    </tr>\n",
       "    <tr>\n",
       "      <th>8</th>\n",
       "      <td>9</td>\n",
       "      <td>60000</td>\n",
       "      <td>25</td>\n",
       "    </tr>\n",
       "    <tr>\n",
       "      <th>9</th>\n",
       "      <td>10</td>\n",
       "      <td>70000</td>\n",
       "      <td>24</td>\n",
       "    </tr>\n",
       "  </tbody>\n",
       "</table>\n",
       "</div>"
      ],
      "text/plain": [
       "   Id  Salary  Age\n",
       "0   1   20000   22\n",
       "1   2   30000   23\n",
       "2   3   50000   24\n",
       "3   4   40000   25\n",
       "4   5   80000   26\n",
       "5   6   90000   25\n",
       "6   7  350000   26\n",
       "7   8   55000   27\n",
       "8   9   60000   25\n",
       "9  10   70000   24"
      ]
     },
     "execution_count": 2,
     "metadata": {},
     "output_type": "execute_result"
    }
   ],
   "source": [
    "import pandas as pd\n",
    "df = pd.DataFrame({'Id':[1,2,3,4,5,6,7,8,9,10],\n",
    "'Salary':[20000,30000,50000,40000,80000,90000,350000,55000,60000,70000],\n",
    "            'Age': [22,23,24,25,26,25,26,27,25,24]})\n",
    "df"
   ]
  },
  {
   "cell_type": "code",
   "execution_count": 8,
   "id": "edcec26c",
   "metadata": {},
   "outputs": [
    {
     "name": "stdout",
     "output_type": "stream",
     "text": [
      "DataFrame is:\n",
      "    Id  Salary  Age\n",
      "0   1   20000   22\n",
      "1   2   30000   23\n",
      "2   3   50000   24\n",
      "3   4   40000   25\n",
      "4   5   80000   26\n",
      "5   6   90000   25\n",
      "6   7  350000   26\n",
      "7   8   55000   27\n",
      "8   9   60000   25\n",
      "9  10   70000   24\n",
      "Second lowest value of each column is:\n",
      "Id            2\n",
      "Salary    30000\n",
      "Age          23\n",
      "dtype: int64\n"
     ]
    }
   ],
   "source": [
    "print(\"DataFrame is:\\n\",df)\n",
    "print(\"Second lowest value of each column is:\")\n",
    "result = df.apply(lambda x: x.sort_values().unique()[1], axis=0)\n",
    "print\n",
    "print(result)"
   ]
  },
  {
   "cell_type": "markdown",
   "id": "eb53987e",
   "metadata": {},
   "source": [
    "##### Write a program in Python to find which column has the minimum number of missing values in a given dataframe"
   ]
  },
  {
   "cell_type": "code",
   "execution_count": 12,
   "id": "23e42082",
   "metadata": {},
   "outputs": [],
   "source": [
    "import pandas as pd\n",
    "import numpy as np\n",
    "df = pd.DataFrame({'Id':[1,2,3,np.nan,5,6,7,8,9,10],\n",
    "'Salary':[20000,np.nan,50000,40000,80000,np.nan,350000,55000,60000,70000],\n",
    "            'Age': [22,23,np.nan,25,np.nan,25,26,27,np.nan,24]})"
   ]
  },
  {
   "cell_type": "code",
   "execution_count": 10,
   "id": "f5fb8941",
   "metadata": {},
   "outputs": [
    {
     "name": "stdout",
     "output_type": "stream",
     "text": [
      "DataFrame is:\n",
      "      Id    Salary   Age\n",
      "0   1.0   20000.0  22.0\n",
      "1   2.0       NaN  23.0\n",
      "2   3.0   50000.0   NaN\n",
      "3   NaN   40000.0  25.0\n",
      "4   5.0   80000.0   NaN\n",
      "5   6.0       NaN  25.0\n",
      "6   7.0  350000.0  26.0\n",
      "7   8.0   55000.0  27.0\n",
      "8   9.0   60000.0   NaN\n",
      "9  10.0   70000.0  24.0\n",
      "lowest missing value column is: Id\n"
     ]
    }
   ],
   "source": [
    "# print(\"DataFrame is:\\n\",df)\n",
    "# df = df.apply(lambda x: x.isnull().sum(),axis=0)\n",
    "# print(\"lowest missing value column is:\",df.idxmin())"
   ]
  },
  {
   "cell_type": "code",
   "execution_count": 13,
   "id": "dec575f5",
   "metadata": {},
   "outputs": [
    {
     "data": {
      "text/html": [
       "<div>\n",
       "<style scoped>\n",
       "    .dataframe tbody tr th:only-of-type {\n",
       "        vertical-align: middle;\n",
       "    }\n",
       "\n",
       "    .dataframe tbody tr th {\n",
       "        vertical-align: top;\n",
       "    }\n",
       "\n",
       "    .dataframe thead th {\n",
       "        text-align: right;\n",
       "    }\n",
       "</style>\n",
       "<table border=\"1\" class=\"dataframe\">\n",
       "  <thead>\n",
       "    <tr style=\"text-align: right;\">\n",
       "      <th></th>\n",
       "      <th>Id</th>\n",
       "      <th>Salary</th>\n",
       "      <th>Age</th>\n",
       "    </tr>\n",
       "  </thead>\n",
       "  <tbody>\n",
       "    <tr>\n",
       "      <th>0</th>\n",
       "      <td>1.0</td>\n",
       "      <td>20000.0</td>\n",
       "      <td>22.0</td>\n",
       "    </tr>\n",
       "    <tr>\n",
       "      <th>1</th>\n",
       "      <td>2.0</td>\n",
       "      <td>NaN</td>\n",
       "      <td>23.0</td>\n",
       "    </tr>\n",
       "    <tr>\n",
       "      <th>2</th>\n",
       "      <td>3.0</td>\n",
       "      <td>50000.0</td>\n",
       "      <td>NaN</td>\n",
       "    </tr>\n",
       "    <tr>\n",
       "      <th>3</th>\n",
       "      <td>NaN</td>\n",
       "      <td>40000.0</td>\n",
       "      <td>25.0</td>\n",
       "    </tr>\n",
       "    <tr>\n",
       "      <th>4</th>\n",
       "      <td>5.0</td>\n",
       "      <td>80000.0</td>\n",
       "      <td>NaN</td>\n",
       "    </tr>\n",
       "    <tr>\n",
       "      <th>5</th>\n",
       "      <td>6.0</td>\n",
       "      <td>NaN</td>\n",
       "      <td>25.0</td>\n",
       "    </tr>\n",
       "    <tr>\n",
       "      <th>6</th>\n",
       "      <td>7.0</td>\n",
       "      <td>350000.0</td>\n",
       "      <td>26.0</td>\n",
       "    </tr>\n",
       "    <tr>\n",
       "      <th>7</th>\n",
       "      <td>8.0</td>\n",
       "      <td>55000.0</td>\n",
       "      <td>27.0</td>\n",
       "    </tr>\n",
       "    <tr>\n",
       "      <th>8</th>\n",
       "      <td>9.0</td>\n",
       "      <td>60000.0</td>\n",
       "      <td>NaN</td>\n",
       "    </tr>\n",
       "    <tr>\n",
       "      <th>9</th>\n",
       "      <td>10.0</td>\n",
       "      <td>70000.0</td>\n",
       "      <td>24.0</td>\n",
       "    </tr>\n",
       "  </tbody>\n",
       "</table>\n",
       "</div>"
      ],
      "text/plain": [
       "     Id    Salary   Age\n",
       "0   1.0   20000.0  22.0\n",
       "1   2.0       NaN  23.0\n",
       "2   3.0   50000.0   NaN\n",
       "3   NaN   40000.0  25.0\n",
       "4   5.0   80000.0   NaN\n",
       "5   6.0       NaN  25.0\n",
       "6   7.0  350000.0  26.0\n",
       "7   8.0   55000.0  27.0\n",
       "8   9.0   60000.0   NaN\n",
       "9  10.0   70000.0  24.0"
      ]
     },
     "execution_count": 13,
     "metadata": {},
     "output_type": "execute_result"
    }
   ],
   "source": [
    "df"
   ]
  },
  {
   "cell_type": "code",
   "execution_count": 24,
   "id": "96cb7a02",
   "metadata": {},
   "outputs": [
    {
     "data": {
      "text/plain": [
       "'Id'"
      ]
     },
     "execution_count": 24,
     "metadata": {},
     "output_type": "execute_result"
    }
   ],
   "source": [
    "df.isnull().sum().idxmin()"
   ]
  },
  {
   "cell_type": "markdown",
   "id": "fcfafa86",
   "metadata": {},
   "source": [
    "###### OR"
   ]
  },
  {
   "cell_type": "code",
   "execution_count": 15,
   "id": "200d46ad",
   "metadata": {},
   "outputs": [
    {
     "data": {
      "text/plain": [
       "Id        1\n",
       "Salary    2\n",
       "Age       3\n",
       "dtype: int64"
      ]
     },
     "execution_count": 15,
     "metadata": {},
     "output_type": "execute_result"
    }
   ],
   "source": [
    "result = df.apply(lambda x: x.isnull().sum(),axis=0)\n",
    "result"
   ]
  },
  {
   "cell_type": "code",
   "execution_count": 18,
   "id": "28a26b14",
   "metadata": {},
   "outputs": [
    {
     "name": "stdout",
     "output_type": "stream",
     "text": [
      "lowest missing value column is: Id\n"
     ]
    }
   ],
   "source": [
    "print(\"lowest missing value column is:\",result.idxmin())"
   ]
  },
  {
   "cell_type": "markdown",
   "id": "acb4a03b",
   "metadata": {},
   "source": [
    "###### Write a program in Python to find the index for NaN value in a given series"
   ]
  },
  {
   "cell_type": "code",
   "execution_count": 25,
   "id": "c2122d4d",
   "metadata": {},
   "outputs": [],
   "source": [
    "import pandas as pd\n",
    "import numpy as np"
   ]
  },
  {
   "cell_type": "code",
   "execution_count": 27,
   "id": "739c988d",
   "metadata": {},
   "outputs": [
    {
     "name": "stdout",
     "output_type": "stream",
     "text": [
      "0    1.0\n",
      "1    2.0\n",
      "2    3.0\n",
      "3    NaN\n",
      "4    4.0\n",
      "5    NaN\n",
      "dtype: float64\n"
     ]
    }
   ],
   "source": [
    "l = [1,2,3,np.nan,4,np.nan]\n",
    "data = pd.Series(l)\n",
    "print(data)"
   ]
  },
  {
   "cell_type": "code",
   "execution_count": 34,
   "id": "a165da91",
   "metadata": {},
   "outputs": [
    {
     "data": {
      "text/plain": [
       "3   NaN\n",
       "5   NaN\n",
       "dtype: float64"
      ]
     },
     "execution_count": 34,
     "metadata": {},
     "output_type": "execute_result"
    }
   ],
   "source": [
    "data_mod=data[pd.isnull(data)]\n",
    "data_mod"
   ]
  },
  {
   "cell_type": "code",
   "execution_count": 37,
   "id": "01fce8e1",
   "metadata": {},
   "outputs": [
    {
     "data": {
      "text/plain": [
       "[3, 5]"
      ]
     },
     "execution_count": 37,
     "metadata": {},
     "output_type": "execute_result"
    }
   ],
   "source": [
    "list(data_mod.index)"
   ]
  },
  {
   "cell_type": "markdown",
   "id": "948e2694",
   "metadata": {},
   "source": [
    "###### Print dictionary with key as numbers and value as square of the numbers"
   ]
  },
  {
   "cell_type": "code",
   "execution_count": 38,
   "id": "d848add1",
   "metadata": {},
   "outputs": [
    {
     "name": "stdout",
     "output_type": "stream",
     "text": [
      "{1: 1, 2: 4, 3: 9, 4: 16, 5: 25, 6: 36, 7: 49, 8: 64, 9: 81}\n"
     ]
    }
   ],
   "source": [
    "simple_dict={}\n",
    "for i in range(1,10):\n",
    "    simple_dict[i]=i**2\n",
    "print(simple_dic"
   ]
  },
  {
   "cell_type": "code",
   "execution_count": 39,
   "id": "22364ea3",
   "metadata": {},
   "outputs": [
    {
     "data": {
      "text/plain": [
       "{1: 'Shubham', 2: 'Ravi', 3: 'Nitin', 4: 'Sahil'}"
      ]
     },
     "execution_count": 39,
     "metadata": {},
     "output_type": "execute_result"
    }
   ],
   "source": [
    "dict={1:'Shubham', 2:'Ravi', 3:'Nitin', 4:'Sahil'}\n",
    "dict"
   ]
  },
  {
   "cell_type": "code",
   "execution_count": 44,
   "id": "aca88677",
   "metadata": {},
   "outputs": [
    {
     "name": "stdout",
     "output_type": "stream",
     "text": [
      "[1, 2, 3, 4]\n"
     ]
    }
   ],
   "source": [
    "k=[]\n",
    "for keys in dict.keys():\n",
    "    k.append(keys)\n",
    "print(k)"
   ]
  },
  {
   "cell_type": "code",
   "execution_count": 45,
   "id": "7e61d2c5",
   "metadata": {},
   "outputs": [
    {
     "name": "stdout",
     "output_type": "stream",
     "text": [
      "['Shubham', 'Ravi', 'Nitin', 'Sahil']\n"
     ]
    }
   ],
   "source": [
    "v=[]\n",
    "for values in dict.values():\n",
    "    v.append(values)\n",
    "print(v)"
   ]
  },
  {
   "cell_type": "code",
   "execution_count": null,
   "id": "15844927",
   "metadata": {},
   "outputs": [],
   "source": []
  }
 ],
 "metadata": {
  "kernelspec": {
   "display_name": "Python 3 (ipykernel)",
   "language": "python",
   "name": "python3"
  },
  "language_info": {
   "codemirror_mode": {
    "name": "ipython",
    "version": 3
   },
   "file_extension": ".py",
   "mimetype": "text/x-python",
   "name": "python",
   "nbconvert_exporter": "python",
   "pygments_lexer": "ipython3",
   "version": "3.9.7"
  }
 },
 "nbformat": 4,
 "nbformat_minor": 5
}
