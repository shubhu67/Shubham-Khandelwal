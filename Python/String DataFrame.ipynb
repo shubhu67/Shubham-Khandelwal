{
 "cells": [
  {
   "cell_type": "code",
   "execution_count": 1,
   "id": "5afd5a0f",
   "metadata": {},
   "outputs": [],
   "source": [
    "import pandas as pd\n",
    "import numpy as np"
   ]
  },
  {
   "cell_type": "code",
   "execution_count": 5,
   "id": "ae673205",
   "metadata": {},
   "outputs": [
    {
     "data": {
      "text/html": [
       "<div>\n",
       "<style scoped>\n",
       "    .dataframe tbody tr th:only-of-type {\n",
       "        vertical-align: middle;\n",
       "    }\n",
       "\n",
       "    .dataframe tbody tr th {\n",
       "        vertical-align: top;\n",
       "    }\n",
       "\n",
       "    .dataframe thead th {\n",
       "        text-align: right;\n",
       "    }\n",
       "</style>\n",
       "<table border=\"1\" class=\"dataframe\">\n",
       "  <thead>\n",
       "    <tr style=\"text-align: right;\">\n",
       "      <th></th>\n",
       "      <th>first_name</th>\n",
       "      <th>last_name</th>\n",
       "      <th>group</th>\n",
       "      <th>salary</th>\n",
       "    </tr>\n",
       "  </thead>\n",
       "  <tbody>\n",
       "    <tr>\n",
       "      <th>0</th>\n",
       "      <td>John</td>\n",
       "      <td>Doe</td>\n",
       "      <td>A-1B</td>\n",
       "      <td>$75000</td>\n",
       "    </tr>\n",
       "    <tr>\n",
       "      <th>1</th>\n",
       "      <td>jane</td>\n",
       "      <td>doe</td>\n",
       "      <td>B-1B</td>\n",
       "      <td>$72000</td>\n",
       "    </tr>\n",
       "    <tr>\n",
       "      <th>2</th>\n",
       "      <td>emily</td>\n",
       "      <td>uth</td>\n",
       "      <td>A-1C</td>\n",
       "      <td>£45000</td>\n",
       "    </tr>\n",
       "    <tr>\n",
       "      <th>3</th>\n",
       "      <td>Matt</td>\n",
       "      <td>Dan</td>\n",
       "      <td>A-1B</td>\n",
       "      <td>$77000</td>\n",
       "    </tr>\n",
       "    <tr>\n",
       "      <th>4</th>\n",
       "      <td>Alex</td>\n",
       "      <td>mir</td>\n",
       "      <td>C-1C</td>\n",
       "      <td>£58,000</td>\n",
       "    </tr>\n",
       "  </tbody>\n",
       "</table>\n",
       "</div>"
      ],
      "text/plain": [
       "  first_name last_name group   salary\n",
       "0       John       Doe  A-1B   $75000\n",
       "1       jane       doe  B-1B   $72000\n",
       "2      emily       uth  A-1C   £45000\n",
       "3       Matt       Dan  A-1B   $77000\n",
       "4       Alex       mir  C-1C  £58,000"
      ]
     },
     "execution_count": 5,
     "metadata": {},
     "output_type": "execute_result"
    }
   ],
   "source": [
    "df = pd.DataFrame({\n",
    "    \"first_name\": [\"John\",\"jane\",\"emily\",\"Matt\",\"Alex\"],\n",
    "    \"last_name\": [\"Doe\",\"doe\",\"uth\",\"Dan\",\"mir\"],\n",
    "    \"group\": [\"A-1B\",\"B-1B\",\"A-1C\",\"A-1B\",\"C-1C\"],\n",
    "    \"salary\": [\"$75000\",\"$72000\",\"£45000\",\"$77000\",\"£58,000\"]\n",
    "})\n",
    "df"
   ]
  },
  {
   "cell_type": "markdown",
   "id": "e4399231",
   "metadata": {},
   "source": [
    "### Split\n",
    "A string might include multiple pieces of information. For instance, a typical address shows street, city, and state information. In our mock DataFrame, the group column consists of two parts combined with a hyphen. If we want to represent groups in two separate columns, we can split it."
   ]
  },
  {
   "cell_type": "code",
   "execution_count": 6,
   "id": "a4720a7e",
   "metadata": {},
   "outputs": [],
   "source": [
    "fun1=lambda x:x.split('-')[0]\n",
    "fun2=lambda x:x.split('-')[1]"
   ]
  },
  {
   "cell_type": "code",
   "execution_count": 7,
   "id": "c89471c4",
   "metadata": {},
   "outputs": [],
   "source": [
    "df['Group1']=df['group'].apply(fun1)\n",
    "df['Group2']=df['group'].apply(fun2)"
   ]
  },
  {
   "cell_type": "code",
   "execution_count": 8,
   "id": "194b1669",
   "metadata": {},
   "outputs": [
    {
     "data": {
      "text/html": [
       "<div>\n",
       "<style scoped>\n",
       "    .dataframe tbody tr th:only-of-type {\n",
       "        vertical-align: middle;\n",
       "    }\n",
       "\n",
       "    .dataframe tbody tr th {\n",
       "        vertical-align: top;\n",
       "    }\n",
       "\n",
       "    .dataframe thead th {\n",
       "        text-align: right;\n",
       "    }\n",
       "</style>\n",
       "<table border=\"1\" class=\"dataframe\">\n",
       "  <thead>\n",
       "    <tr style=\"text-align: right;\">\n",
       "      <th></th>\n",
       "      <th>first_name</th>\n",
       "      <th>last_name</th>\n",
       "      <th>group</th>\n",
       "      <th>salary</th>\n",
       "      <th>Group1</th>\n",
       "      <th>Group2</th>\n",
       "    </tr>\n",
       "  </thead>\n",
       "  <tbody>\n",
       "    <tr>\n",
       "      <th>0</th>\n",
       "      <td>John</td>\n",
       "      <td>Doe</td>\n",
       "      <td>A-1B</td>\n",
       "      <td>$75000</td>\n",
       "      <td>A</td>\n",
       "      <td>1B</td>\n",
       "    </tr>\n",
       "    <tr>\n",
       "      <th>1</th>\n",
       "      <td>jane</td>\n",
       "      <td>doe</td>\n",
       "      <td>B-1B</td>\n",
       "      <td>$72000</td>\n",
       "      <td>B</td>\n",
       "      <td>1B</td>\n",
       "    </tr>\n",
       "    <tr>\n",
       "      <th>2</th>\n",
       "      <td>emily</td>\n",
       "      <td>uth</td>\n",
       "      <td>A-1C</td>\n",
       "      <td>£45000</td>\n",
       "      <td>A</td>\n",
       "      <td>1C</td>\n",
       "    </tr>\n",
       "    <tr>\n",
       "      <th>3</th>\n",
       "      <td>Matt</td>\n",
       "      <td>Dan</td>\n",
       "      <td>A-1B</td>\n",
       "      <td>$77000</td>\n",
       "      <td>A</td>\n",
       "      <td>1B</td>\n",
       "    </tr>\n",
       "    <tr>\n",
       "      <th>4</th>\n",
       "      <td>Alex</td>\n",
       "      <td>mir</td>\n",
       "      <td>C-1C</td>\n",
       "      <td>£58,000</td>\n",
       "      <td>C</td>\n",
       "      <td>1C</td>\n",
       "    </tr>\n",
       "  </tbody>\n",
       "</table>\n",
       "</div>"
      ],
      "text/plain": [
       "  first_name last_name group   salary Group1 Group2\n",
       "0       John       Doe  A-1B   $75000      A     1B\n",
       "1       jane       doe  B-1B   $72000      B     1B\n",
       "2      emily       uth  A-1C   £45000      A     1C\n",
       "3       Matt       Dan  A-1B   $77000      A     1B\n",
       "4       Alex       mir  C-1C  £58,000      C     1C"
      ]
     },
     "execution_count": 8,
     "metadata": {},
     "output_type": "execute_result"
    }
   ],
   "source": [
    "df"
   ]
  },
  {
   "cell_type": "markdown",
   "id": "718db815",
   "metadata": {},
   "source": [
    "## OR"
   ]
  },
  {
   "cell_type": "code",
   "execution_count": 16,
   "id": "e6298e99",
   "metadata": {},
   "outputs": [
    {
     "data": {
      "text/plain": [
       "0    [A, 1B]\n",
       "1    [B, 1B]\n",
       "2    [A, 1C]\n",
       "3    [A, 1B]\n",
       "4    [C, 1C]\n",
       "Name: group, dtype: object"
      ]
     },
     "execution_count": 16,
     "metadata": {},
     "output_type": "execute_result"
    }
   ],
   "source": [
    "df[\"group\"].str.split(\"-\")"
   ]
  },
  {
   "cell_type": "markdown",
   "id": "afd5d740",
   "metadata": {},
   "source": [
    "### The output values are lists that contain each item created after splitting. We can create separate columns by using the expand parameter."
   ]
  },
  {
   "cell_type": "code",
   "execution_count": 22,
   "id": "323cd5b5",
   "metadata": {},
   "outputs": [
    {
     "data": {
      "text/html": [
       "<div>\n",
       "<style scoped>\n",
       "    .dataframe tbody tr th:only-of-type {\n",
       "        vertical-align: middle;\n",
       "    }\n",
       "\n",
       "    .dataframe tbody tr th {\n",
       "        vertical-align: top;\n",
       "    }\n",
       "\n",
       "    .dataframe thead th {\n",
       "        text-align: right;\n",
       "    }\n",
       "</style>\n",
       "<table border=\"1\" class=\"dataframe\">\n",
       "  <thead>\n",
       "    <tr style=\"text-align: right;\">\n",
       "      <th></th>\n",
       "      <th>0</th>\n",
       "      <th>1</th>\n",
       "    </tr>\n",
       "  </thead>\n",
       "  <tbody>\n",
       "    <tr>\n",
       "      <th>0</th>\n",
       "      <td>A</td>\n",
       "      <td>1B</td>\n",
       "    </tr>\n",
       "    <tr>\n",
       "      <th>1</th>\n",
       "      <td>B</td>\n",
       "      <td>1B</td>\n",
       "    </tr>\n",
       "    <tr>\n",
       "      <th>2</th>\n",
       "      <td>A</td>\n",
       "      <td>1C</td>\n",
       "    </tr>\n",
       "    <tr>\n",
       "      <th>3</th>\n",
       "      <td>A</td>\n",
       "      <td>1B</td>\n",
       "    </tr>\n",
       "    <tr>\n",
       "      <th>4</th>\n",
       "      <td>C</td>\n",
       "      <td>1C</td>\n",
       "    </tr>\n",
       "  </tbody>\n",
       "</table>\n",
       "</div>"
      ],
      "text/plain": [
       "   0   1\n",
       "0  A  1B\n",
       "1  B  1B\n",
       "2  A  1C\n",
       "3  A  1B\n",
       "4  C  1C"
      ]
     },
     "execution_count": 22,
     "metadata": {},
     "output_type": "execute_result"
    }
   ],
   "source": [
    "df[\"group\"].str.split(\"-\", expand=True)\n",
    "# The output is a DataFrame"
   ]
  },
  {
   "cell_type": "code",
   "execution_count": 4,
   "id": "969a7b96",
   "metadata": {},
   "outputs": [
    {
     "data": {
      "text/html": [
       "<div>\n",
       "<style scoped>\n",
       "    .dataframe tbody tr th:only-of-type {\n",
       "        vertical-align: middle;\n",
       "    }\n",
       "\n",
       "    .dataframe tbody tr th {\n",
       "        vertical-align: top;\n",
       "    }\n",
       "\n",
       "    .dataframe thead th {\n",
       "        text-align: right;\n",
       "    }\n",
       "</style>\n",
       "<table border=\"1\" class=\"dataframe\">\n",
       "  <thead>\n",
       "    <tr style=\"text-align: right;\">\n",
       "      <th></th>\n",
       "      <th>first_name</th>\n",
       "      <th>last_name</th>\n",
       "      <th>group</th>\n",
       "      <th>salary</th>\n",
       "      <th>group1</th>\n",
       "      <th>group2</th>\n",
       "    </tr>\n",
       "  </thead>\n",
       "  <tbody>\n",
       "    <tr>\n",
       "      <th>0</th>\n",
       "      <td>John</td>\n",
       "      <td>Doe</td>\n",
       "      <td>A-1B</td>\n",
       "      <td>$75000</td>\n",
       "      <td>A</td>\n",
       "      <td>1B</td>\n",
       "    </tr>\n",
       "    <tr>\n",
       "      <th>1</th>\n",
       "      <td>jane</td>\n",
       "      <td>doe</td>\n",
       "      <td>B-1B</td>\n",
       "      <td>$72000</td>\n",
       "      <td>B</td>\n",
       "      <td>1B</td>\n",
       "    </tr>\n",
       "    <tr>\n",
       "      <th>2</th>\n",
       "      <td>emily</td>\n",
       "      <td>uth</td>\n",
       "      <td>A-1C</td>\n",
       "      <td>£45000</td>\n",
       "      <td>A</td>\n",
       "      <td>1C</td>\n",
       "    </tr>\n",
       "    <tr>\n",
       "      <th>3</th>\n",
       "      <td>Matt</td>\n",
       "      <td>Dan</td>\n",
       "      <td>A-1B</td>\n",
       "      <td>$77000</td>\n",
       "      <td>A</td>\n",
       "      <td>1B</td>\n",
       "    </tr>\n",
       "    <tr>\n",
       "      <th>4</th>\n",
       "      <td>Alex</td>\n",
       "      <td>mir</td>\n",
       "      <td>C-1C</td>\n",
       "      <td>£58,000</td>\n",
       "      <td>C</td>\n",
       "      <td>1C</td>\n",
       "    </tr>\n",
       "  </tbody>\n",
       "</table>\n",
       "</div>"
      ],
      "text/plain": [
       "  first_name last_name group   salary group1 group2\n",
       "0       John       Doe  A-1B   $75000      A     1B\n",
       "1       jane       doe  B-1B   $72000      B     1B\n",
       "2      emily       uth  A-1C   £45000      A     1C\n",
       "3       Matt       Dan  A-1B   $77000      A     1B\n",
       "4       Alex       mir  C-1C  £58,000      C     1C"
      ]
     },
     "execution_count": 4,
     "metadata": {},
     "output_type": "execute_result"
    }
   ],
   "source": [
    "df[\"group1\"] = df[\"group\"].str.split(\"-\", expand=True)[0]\n",
    "df[\"group2\"] = df[\"group\"].str.split(\"-\", expand=True)[1]\n",
    "df"
   ]
  },
  {
   "cell_type": "code",
   "execution_count": 6,
   "id": "fa01ebd2",
   "metadata": {},
   "outputs": [
    {
     "data": {
      "text/plain": [
       "0     John Doe\n",
       "1     jane doe\n",
       "2    emily uth\n",
       "3     Matt Dan\n",
       "4     Alex mir\n",
       "dtype: object"
      ]
     },
     "execution_count": 6,
     "metadata": {},
     "output_type": "execute_result"
    }
   ],
   "source": [
    "# method 1\n",
    "df[\"first_name\"].str.cat(df[\"last_name\"], sep=\" \")\n",
    "# method 2\n",
    "df[\"first_name\"] + \" \" + df[\"last_name\"]"
   ]
  },
  {
   "cell_type": "code",
   "execution_count": 7,
   "id": "ce5cefb8",
   "metadata": {},
   "outputs": [],
   "source": [
    "df['FullName']=df[\"first_name\"] + \" \" + df[\"last_name\"]"
   ]
  },
  {
   "cell_type": "code",
   "execution_count": 8,
   "id": "07304dc0",
   "metadata": {},
   "outputs": [
    {
     "data": {
      "text/html": [
       "<div>\n",
       "<style scoped>\n",
       "    .dataframe tbody tr th:only-of-type {\n",
       "        vertical-align: middle;\n",
       "    }\n",
       "\n",
       "    .dataframe tbody tr th {\n",
       "        vertical-align: top;\n",
       "    }\n",
       "\n",
       "    .dataframe thead th {\n",
       "        text-align: right;\n",
       "    }\n",
       "</style>\n",
       "<table border=\"1\" class=\"dataframe\">\n",
       "  <thead>\n",
       "    <tr style=\"text-align: right;\">\n",
       "      <th></th>\n",
       "      <th>first_name</th>\n",
       "      <th>last_name</th>\n",
       "      <th>group</th>\n",
       "      <th>salary</th>\n",
       "      <th>group1</th>\n",
       "      <th>group2</th>\n",
       "      <th>FullName</th>\n",
       "    </tr>\n",
       "  </thead>\n",
       "  <tbody>\n",
       "    <tr>\n",
       "      <th>0</th>\n",
       "      <td>John</td>\n",
       "      <td>Doe</td>\n",
       "      <td>A-1B</td>\n",
       "      <td>$75000</td>\n",
       "      <td>A</td>\n",
       "      <td>1B</td>\n",
       "      <td>John Doe</td>\n",
       "    </tr>\n",
       "    <tr>\n",
       "      <th>1</th>\n",
       "      <td>jane</td>\n",
       "      <td>doe</td>\n",
       "      <td>B-1B</td>\n",
       "      <td>$72000</td>\n",
       "      <td>B</td>\n",
       "      <td>1B</td>\n",
       "      <td>jane doe</td>\n",
       "    </tr>\n",
       "    <tr>\n",
       "      <th>2</th>\n",
       "      <td>emily</td>\n",
       "      <td>uth</td>\n",
       "      <td>A-1C</td>\n",
       "      <td>£45000</td>\n",
       "      <td>A</td>\n",
       "      <td>1C</td>\n",
       "      <td>emily uth</td>\n",
       "    </tr>\n",
       "    <tr>\n",
       "      <th>3</th>\n",
       "      <td>Matt</td>\n",
       "      <td>Dan</td>\n",
       "      <td>A-1B</td>\n",
       "      <td>$77000</td>\n",
       "      <td>A</td>\n",
       "      <td>1B</td>\n",
       "      <td>Matt Dan</td>\n",
       "    </tr>\n",
       "    <tr>\n",
       "      <th>4</th>\n",
       "      <td>Alex</td>\n",
       "      <td>mir</td>\n",
       "      <td>C-1C</td>\n",
       "      <td>£58,000</td>\n",
       "      <td>C</td>\n",
       "      <td>1C</td>\n",
       "      <td>Alex mir</td>\n",
       "    </tr>\n",
       "  </tbody>\n",
       "</table>\n",
       "</div>"
      ],
      "text/plain": [
       "  first_name last_name group   salary group1 group2   FullName\n",
       "0       John       Doe  A-1B   $75000      A     1B   John Doe\n",
       "1       jane       doe  B-1B   $72000      B     1B   jane doe\n",
       "2      emily       uth  A-1C   £45000      A     1C  emily uth\n",
       "3       Matt       Dan  A-1B   $77000      A     1B   Matt Dan\n",
       "4       Alex       mir  C-1C  £58,000      C     1C   Alex mir"
      ]
     },
     "execution_count": 8,
     "metadata": {},
     "output_type": "execute_result"
    }
   ],
   "source": [
    "df"
   ]
  },
  {
   "cell_type": "code",
   "execution_count": 9,
   "id": "e57d8dd1",
   "metadata": {},
   "outputs": [
    {
     "data": {
      "text/plain": [
       "0     john doe\n",
       "1     jane doe\n",
       "2    emily uth\n",
       "3     matt dan\n",
       "4     alex mir\n",
       "dtype: object"
      ]
     },
     "execution_count": 9,
     "metadata": {},
     "output_type": "execute_result"
    }
   ],
   "source": [
    "df[\"first_name\"].str.lower() + \" \" + df[\"last_name\"].str.lower()"
   ]
  },
  {
   "cell_type": "code",
   "execution_count": 10,
   "id": "7a6fbdd4",
   "metadata": {},
   "outputs": [
    {
     "data": {
      "text/plain": [
       "0     John Doe\n",
       "1     Jane Doe\n",
       "2    Emily Uth\n",
       "3     Matt Dan\n",
       "4     Alex Mir\n",
       "dtype: object"
      ]
     },
     "execution_count": 10,
     "metadata": {},
     "output_type": "execute_result"
    }
   ],
   "source": [
    "df[\"first_name\"].str.capitalize() + \" \" + df[\"last_name\"].str.capitalize()"
   ]
  },
  {
   "cell_type": "code",
   "execution_count": 2,
   "id": "1c38090d",
   "metadata": {},
   "outputs": [
    {
     "data": {
      "text/plain": [
       "('Laptop', 10, 699)"
      ]
     },
     "execution_count": 2,
     "metadata": {},
     "output_type": "execute_result"
    }
   ],
   "source": [
    "product=('Laptop', 10, 699)\n",
    "product"
   ]
  },
  {
   "cell_type": "code",
   "execution_count": 8,
   "id": "ea6322e5",
   "metadata": {},
   "outputs": [
    {
     "data": {
      "text/plain": [
       "'Laptop,10,699'"
      ]
     },
     "execution_count": 8,
     "metadata": {},
     "output_type": "execute_result"
    }
   ],
   "source": [
    "result=','.join(str(i) for i in product)\n",
    "result"
   ]
  },
  {
   "cell_type": "code",
   "execution_count": 9,
   "id": "29a724a8",
   "metadata": {},
   "outputs": [
    {
     "data": {
      "text/plain": [
       "str"
      ]
     },
     "execution_count": 9,
     "metadata": {},
     "output_type": "execute_result"
    }
   ],
   "source": [
    "type(result)"
   ]
  },
  {
   "cell_type": "code",
   "execution_count": 10,
   "id": "ed77c75d",
   "metadata": {},
   "outputs": [
    {
     "data": {
      "text/plain": [
       "'Sorafenib,Sorafenib,Erlotinib,Erlotinib,Sorafenib'"
      ]
     },
     "execution_count": 10,
     "metadata": {},
     "output_type": "execute_result"
    }
   ],
   "source": [
    "x = 'Sorafenib,Sorafenib,Erlotinib,Erlotinib,Sorafenib'\n",
    "x"
   ]
  },
  {
   "cell_type": "code",
   "execution_count": 11,
   "id": "103546c9",
   "metadata": {},
   "outputs": [
    {
     "data": {
      "text/plain": [
       "'S,o,r,a,f,e,n,i,b,,,S,o,r,a,f,e,n,i,b,,,E,r,l,o,t,i,n,i,b,,,E,r,l,o,t,i,n,i,b,,,S,o,r,a,f,e,n,i,b'"
      ]
     },
     "execution_count": 11,
     "metadata": {},
     "output_type": "execute_result"
    }
   ],
   "source": [
    "a=','.join(x)\n",
    "a"
   ]
  },
  {
   "cell_type": "code",
   "execution_count": 17,
   "id": "f2f48acc",
   "metadata": {},
   "outputs": [],
   "source": [
    "li=[4,4,3,3,2,2]\n",
    "a=[]\n",
    "l1=[a.append(i) for i in li if i not in a]"
   ]
  },
  {
   "cell_type": "code",
   "execution_count": 18,
   "id": "9c3bae45",
   "metadata": {},
   "outputs": [
    {
     "data": {
      "text/plain": [
       "[4, 3, 2]"
      ]
     },
     "execution_count": 18,
     "metadata": {},
     "output_type": "execute_result"
    }
   ],
   "source": [
    "a"
   ]
  },
  {
   "cell_type": "code",
   "execution_count": 1,
   "id": "77fa6464",
   "metadata": {},
   "outputs": [
    {
     "data": {
      "text/plain": [
       "'06/02/1996'"
      ]
     },
     "execution_count": 1,
     "metadata": {},
     "output_type": "execute_result"
    }
   ],
   "source": [
    "Date='06/02/1996'\n",
    "Date"
   ]
  },
  {
   "cell_type": "code",
   "execution_count": 2,
   "id": "c5673b56",
   "metadata": {},
   "outputs": [
    {
     "data": {
      "text/plain": [
       "str"
      ]
     },
     "execution_count": 2,
     "metadata": {},
     "output_type": "execute_result"
    }
   ],
   "source": [
    "type(Date)"
   ]
  },
  {
   "cell_type": "code",
   "execution_count": 3,
   "id": "d4017fa2",
   "metadata": {},
   "outputs": [
    {
     "data": {
      "text/plain": [
       "['06', '02', '1996']"
      ]
     },
     "execution_count": 3,
     "metadata": {},
     "output_type": "execute_result"
    }
   ],
   "source": [
    "Date.split('/')"
   ]
  },
  {
   "cell_type": "code",
   "execution_count": 5,
   "id": "90bbc141",
   "metadata": {},
   "outputs": [
    {
     "data": {
      "text/plain": [
       "'06'"
      ]
     },
     "execution_count": 5,
     "metadata": {},
     "output_type": "execute_result"
    }
   ],
   "source": [
    "dd=Date.split('/')[0]\n",
    "dd"
   ]
  },
  {
   "cell_type": "code",
   "execution_count": 6,
   "id": "8f611f03",
   "metadata": {},
   "outputs": [
    {
     "data": {
      "text/plain": [
       "'02'"
      ]
     },
     "execution_count": 6,
     "metadata": {},
     "output_type": "execute_result"
    }
   ],
   "source": [
    "mm=Date.split('/')[1]\n",
    "mm"
   ]
  },
  {
   "cell_type": "code",
   "execution_count": 7,
   "id": "1e01ab4a",
   "metadata": {},
   "outputs": [
    {
     "data": {
      "text/plain": [
       "'1996'"
      ]
     },
     "execution_count": 7,
     "metadata": {},
     "output_type": "execute_result"
    }
   ],
   "source": [
    "yyyy=Date.split('/')[2]\n",
    "yyyy"
   ]
  },
  {
   "cell_type": "code",
   "execution_count": 1,
   "id": "41dd919b",
   "metadata": {},
   "outputs": [
    {
     "data": {
      "text/plain": [
       "[1, 3, 4, 6, 4, 7, 2, 8, 68, 45, 67, 98, 34, 56, 76, 88]"
      ]
     },
     "execution_count": 1,
     "metadata": {},
     "output_type": "execute_result"
    }
   ],
   "source": [
    "l=[1,3,4,6,4,7,2,8,68,45,67,98,34,56,76,88]\n",
    "l"
   ]
  },
  {
   "cell_type": "code",
   "execution_count": 4,
   "id": "d5f5b663",
   "metadata": {},
   "outputs": [
    {
     "data": {
      "text/plain": [
       "[88, 76]"
      ]
     },
     "execution_count": 4,
     "metadata": {},
     "output_type": "execute_result"
    }
   ],
   "source": [
    "l[-1:-3:-1]"
   ]
  },
  {
   "cell_type": "code",
   "execution_count": null,
   "id": "bd306e79",
   "metadata": {},
   "outputs": [],
   "source": []
  }
 ],
 "metadata": {
  "kernelspec": {
   "display_name": "Python 3 (ipykernel)",
   "language": "python",
   "name": "python3"
  },
  "language_info": {
   "codemirror_mode": {
    "name": "ipython",
    "version": 3
   },
   "file_extension": ".py",
   "mimetype": "text/x-python",
   "name": "python",
   "nbconvert_exporter": "python",
   "pygments_lexer": "ipython3",
   "version": "3.9.7"
  }
 },
 "nbformat": 4,
 "nbformat_minor": 5
}
